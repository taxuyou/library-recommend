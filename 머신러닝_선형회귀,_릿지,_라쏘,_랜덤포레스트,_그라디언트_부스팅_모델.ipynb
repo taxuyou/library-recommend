{
  "nbformat": 4,
  "nbformat_minor": 0,
  "metadata": {
    "colab": {
      "name": "머신러닝 선형회귀, 릿지, 라쏘, 랜덤포레스트, 그라디언트 부스팅 모델.ipynb",
      "version": "0.3.2",
      "provenance": [],
      "collapsed_sections": [],
      "machine_shape": "hm",
      "include_colab_link": true
    },
    "kernelspec": {
      "name": "python3",
      "display_name": "Python 3"
    },
    "accelerator": "GPU"
  },
  "cells": [
    {
      "cell_type": "markdown",
      "metadata": {
        "id": "view-in-github",
        "colab_type": "text"
      },
      "source": [
        "<a href=\"https://colab.research.google.com/github/taxuyou/library-recommend-and-timeseries-predict/blob/master/%EB%A8%B8%EC%8B%A0%EB%9F%AC%EB%8B%9D_%EC%84%A0%ED%98%95%ED%9A%8C%EA%B7%80%2C_%EB%A6%BF%EC%A7%80%2C_%EB%9D%BC%EC%8F%98%2C_%EB%9E%9C%EB%8D%A4%ED%8F%AC%EB%A0%88%EC%8A%A4%ED%8A%B8%2C_%EA%B7%B8%EB%9D%BC%EB%94%94%EC%96%B8%ED%8A%B8_%EB%B6%80%EC%8A%A4%ED%8C%85_%EB%AA%A8%EB%8D%B8.ipynb\" target=\"_parent\"><img src=\"https://colab.research.google.com/assets/colab-badge.svg\" alt=\"Open In Colab\"/></a>"
      ]
    },
    {
      "cell_type": "markdown",
      "metadata": {
        "id": "BmfqSBaHPj_r",
        "colab_type": "text"
      },
      "source": [
        "# 데이터 불러오기 및 전처리"
      ]
    },
    {
      "cell_type": "code",
      "metadata": {
        "id": "N8bDt_DzkQ5f",
        "colab_type": "code",
        "colab": {}
      },
      "source": [
        "#머신러닝 사이킷런 랜덤포레스트\n",
        "\n",
        "import pandas as pd\n",
        "import numpy as np\n",
        "\n",
        "import matplotlib as mpl\n",
        "import matplotlib.pyplot as plt\n",
        "import seaborn as sns\n",
        "\n",
        "# 노트북 안에 그래프를 그리기 위해\n",
        "%matplotlib inline\n",
        "\n",
        "# 그래프에서 마이너스 폰트 깨지는 문제에 대한 대처\n",
        "mpl.rcParams['axes.unicode_minus'] = False\n",
        "\n",
        "import warnings\n",
        "warnings.filterwarnings('ignore')"
      ],
      "execution_count": 0,
      "outputs": []
    },
    {
      "cell_type": "code",
      "metadata": {
        "id": "Awbz1pkekTUW",
        "colab_type": "code",
        "outputId": "23c921fc-b4f8-461a-9fdb-77ab278d84c2",
        "colab": {
          "base_uri": "https://localhost:8080/",
          "height": 35
        }
      },
      "source": [
        "train = pd.read_csv(\"대출과날씨데이터1.csv\", parse_dates=[\"date\"])\n",
        "train.shape"
      ],
      "execution_count": 2,
      "outputs": [
        {
          "output_type": "execute_result",
          "data": {
            "text/plain": [
              "(10942, 5)"
            ]
          },
          "metadata": {
            "tags": []
          },
          "execution_count": 2
        }
      ]
    },
    {
      "cell_type": "code",
      "metadata": {
        "id": "4wFaIBaEUgpI",
        "colab_type": "code",
        "colab": {}
      },
      "source": [
        "train['date']=train['date'].astype(str)"
      ],
      "execution_count": 0,
      "outputs": []
    },
    {
      "cell_type": "code",
      "metadata": {
        "id": "flxB5dUYUmE9",
        "colab_type": "code",
        "outputId": "bb1f43dd-ff1c-4080-9db1-da8d609e1f80",
        "colab": {
          "base_uri": "https://localhost:8080/",
          "height": 198
        }
      },
      "source": [
        "import datetime\n",
        "def getDayName(a,b,c):\n",
        "   \n",
        "  return ['MON','TUE','WED','THU','FRI','SAT','SUN'][datetime.date(int(a),int(b),int(c)).weekday()]\n",
        "\n",
        "# 리스트로 저장 -> DataFrame으로 변환순으로 가면되여\n",
        "# 빈리스트 선언\n",
        "list1 = []\n",
        "for i in train['date']:\n",
        "    a = i[0:4]\n",
        "    b = i[5:7]\n",
        "    c = i[8:10]\n",
        "    # print(getDayName(a,b,c))\n",
        "    # 리스트에 추가\n",
        "    list1.append(getDayName(a,b,c))\n",
        "\n",
        "# 리스트 -> DataFrame으로 전환    \n",
        "train['days'] = list1\n",
        "train.head()"
      ],
      "execution_count": 4,
      "outputs": [
        {
          "output_type": "execute_result",
          "data": {
            "text/html": [
              "<div>\n",
              "<style scoped>\n",
              "    .dataframe tbody tr th:only-of-type {\n",
              "        vertical-align: middle;\n",
              "    }\n",
              "\n",
              "    .dataframe tbody tr th {\n",
              "        vertical-align: top;\n",
              "    }\n",
              "\n",
              "    .dataframe thead th {\n",
              "        text-align: right;\n",
              "    }\n",
              "</style>\n",
              "<table border=\"1\" class=\"dataframe\">\n",
              "  <thead>\n",
              "    <tr style=\"text-align: right;\">\n",
              "      <th></th>\n",
              "      <th>date</th>\n",
              "      <th>c</th>\n",
              "      <th>mm</th>\n",
              "      <th>h</th>\n",
              "      <th>loan</th>\n",
              "      <th>days</th>\n",
              "    </tr>\n",
              "  </thead>\n",
              "  <tbody>\n",
              "    <tr>\n",
              "      <th>0</th>\n",
              "      <td>2017-01-01 09:00:00</td>\n",
              "      <td>-1.1</td>\n",
              "      <td>0.0</td>\n",
              "      <td>97.9</td>\n",
              "      <td>55</td>\n",
              "      <td>SUN</td>\n",
              "    </tr>\n",
              "    <tr>\n",
              "      <th>1</th>\n",
              "      <td>2017-01-01 10:00:00</td>\n",
              "      <td>-0.5</td>\n",
              "      <td>0.0</td>\n",
              "      <td>97.7</td>\n",
              "      <td>78</td>\n",
              "      <td>SUN</td>\n",
              "    </tr>\n",
              "    <tr>\n",
              "      <th>2</th>\n",
              "      <td>2017-01-01 11:00:00</td>\n",
              "      <td>0.6</td>\n",
              "      <td>0.0</td>\n",
              "      <td>97.9</td>\n",
              "      <td>171</td>\n",
              "      <td>SUN</td>\n",
              "    </tr>\n",
              "    <tr>\n",
              "      <th>3</th>\n",
              "      <td>2017-01-01 12:00:00</td>\n",
              "      <td>2.2</td>\n",
              "      <td>0.0</td>\n",
              "      <td>96.3</td>\n",
              "      <td>203</td>\n",
              "      <td>SUN</td>\n",
              "    </tr>\n",
              "    <tr>\n",
              "      <th>4</th>\n",
              "      <td>2017-01-01 13:00:00</td>\n",
              "      <td>5.5</td>\n",
              "      <td>0.0</td>\n",
              "      <td>73.2</td>\n",
              "      <td>398</td>\n",
              "      <td>SUN</td>\n",
              "    </tr>\n",
              "  </tbody>\n",
              "</table>\n",
              "</div>"
            ],
            "text/plain": [
              "                  date    c   mm     h  loan days\n",
              "0  2017-01-01 09:00:00 -1.1  0.0  97.9    55  SUN\n",
              "1  2017-01-01 10:00:00 -0.5  0.0  97.7    78  SUN\n",
              "2  2017-01-01 11:00:00  0.6  0.0  97.9   171  SUN\n",
              "3  2017-01-01 12:00:00  2.2  0.0  96.3   203  SUN\n",
              "4  2017-01-01 13:00:00  5.5  0.0  73.2   398  SUN"
            ]
          },
          "metadata": {
            "tags": []
          },
          "execution_count": 4
        }
      ]
    },
    {
      "cell_type": "code",
      "metadata": {
        "id": "NUTCVZvcUsS_",
        "colab_type": "code",
        "outputId": "40b3f711-5b6b-4b06-d075-1b3c94461f33",
        "colab": {
          "base_uri": "https://localhost:8080/",
          "height": 198
        }
      },
      "source": [
        "## date 칼럼으로 요일 칼럼 holiday 만들어줌\n",
        "list2 = []\n",
        "for i in train['days']:\n",
        "  if i == 'SUN':\n",
        "    list2.append(1)\n",
        "  elif i == 'SAT':\n",
        "    list2.append(1)\n",
        "  else:\n",
        "    list2.append(0)\n",
        "train[\"holiday\"] = list2\n",
        "train.head()"
      ],
      "execution_count": 5,
      "outputs": [
        {
          "output_type": "execute_result",
          "data": {
            "text/html": [
              "<div>\n",
              "<style scoped>\n",
              "    .dataframe tbody tr th:only-of-type {\n",
              "        vertical-align: middle;\n",
              "    }\n",
              "\n",
              "    .dataframe tbody tr th {\n",
              "        vertical-align: top;\n",
              "    }\n",
              "\n",
              "    .dataframe thead th {\n",
              "        text-align: right;\n",
              "    }\n",
              "</style>\n",
              "<table border=\"1\" class=\"dataframe\">\n",
              "  <thead>\n",
              "    <tr style=\"text-align: right;\">\n",
              "      <th></th>\n",
              "      <th>date</th>\n",
              "      <th>c</th>\n",
              "      <th>mm</th>\n",
              "      <th>h</th>\n",
              "      <th>loan</th>\n",
              "      <th>days</th>\n",
              "      <th>holiday</th>\n",
              "    </tr>\n",
              "  </thead>\n",
              "  <tbody>\n",
              "    <tr>\n",
              "      <th>0</th>\n",
              "      <td>2017-01-01 09:00:00</td>\n",
              "      <td>-1.1</td>\n",
              "      <td>0.0</td>\n",
              "      <td>97.9</td>\n",
              "      <td>55</td>\n",
              "      <td>SUN</td>\n",
              "      <td>1</td>\n",
              "    </tr>\n",
              "    <tr>\n",
              "      <th>1</th>\n",
              "      <td>2017-01-01 10:00:00</td>\n",
              "      <td>-0.5</td>\n",
              "      <td>0.0</td>\n",
              "      <td>97.7</td>\n",
              "      <td>78</td>\n",
              "      <td>SUN</td>\n",
              "      <td>1</td>\n",
              "    </tr>\n",
              "    <tr>\n",
              "      <th>2</th>\n",
              "      <td>2017-01-01 11:00:00</td>\n",
              "      <td>0.6</td>\n",
              "      <td>0.0</td>\n",
              "      <td>97.9</td>\n",
              "      <td>171</td>\n",
              "      <td>SUN</td>\n",
              "      <td>1</td>\n",
              "    </tr>\n",
              "    <tr>\n",
              "      <th>3</th>\n",
              "      <td>2017-01-01 12:00:00</td>\n",
              "      <td>2.2</td>\n",
              "      <td>0.0</td>\n",
              "      <td>96.3</td>\n",
              "      <td>203</td>\n",
              "      <td>SUN</td>\n",
              "      <td>1</td>\n",
              "    </tr>\n",
              "    <tr>\n",
              "      <th>4</th>\n",
              "      <td>2017-01-01 13:00:00</td>\n",
              "      <td>5.5</td>\n",
              "      <td>0.0</td>\n",
              "      <td>73.2</td>\n",
              "      <td>398</td>\n",
              "      <td>SUN</td>\n",
              "      <td>1</td>\n",
              "    </tr>\n",
              "  </tbody>\n",
              "</table>\n",
              "</div>"
            ],
            "text/plain": [
              "                  date    c   mm     h  loan days  holiday\n",
              "0  2017-01-01 09:00:00 -1.1  0.0  97.9    55  SUN        1\n",
              "1  2017-01-01 10:00:00 -0.5  0.0  97.7    78  SUN        1\n",
              "2  2017-01-01 11:00:00  0.6  0.0  97.9   171  SUN        1\n",
              "3  2017-01-01 12:00:00  2.2  0.0  96.3   203  SUN        1\n",
              "4  2017-01-01 13:00:00  5.5  0.0  73.2   398  SUN        1"
            ]
          },
          "metadata": {
            "tags": []
          },
          "execution_count": 5
        }
      ]
    },
    {
      "cell_type": "code",
      "metadata": {
        "id": "yOVQI_paUytn",
        "colab_type": "code",
        "outputId": "f794a119-2fdf-4cf7-ea94-e680048f5a59",
        "colab": {
          "base_uri": "https://localhost:8080/",
          "height": 198
        }
      },
      "source": [
        "## 일하는 날 칼럼 만들어줌\n",
        "list3 = []\n",
        "for i in train['holiday']:\n",
        "  if i == 0:\n",
        "    list3.append(1)\n",
        "  else:\n",
        "    list3.append(0)\n",
        "\n",
        "train['workingday'] = list3\n",
        "train.head()"
      ],
      "execution_count": 6,
      "outputs": [
        {
          "output_type": "execute_result",
          "data": {
            "text/html": [
              "<div>\n",
              "<style scoped>\n",
              "    .dataframe tbody tr th:only-of-type {\n",
              "        vertical-align: middle;\n",
              "    }\n",
              "\n",
              "    .dataframe tbody tr th {\n",
              "        vertical-align: top;\n",
              "    }\n",
              "\n",
              "    .dataframe thead th {\n",
              "        text-align: right;\n",
              "    }\n",
              "</style>\n",
              "<table border=\"1\" class=\"dataframe\">\n",
              "  <thead>\n",
              "    <tr style=\"text-align: right;\">\n",
              "      <th></th>\n",
              "      <th>date</th>\n",
              "      <th>c</th>\n",
              "      <th>mm</th>\n",
              "      <th>h</th>\n",
              "      <th>loan</th>\n",
              "      <th>days</th>\n",
              "      <th>holiday</th>\n",
              "      <th>workingday</th>\n",
              "    </tr>\n",
              "  </thead>\n",
              "  <tbody>\n",
              "    <tr>\n",
              "      <th>0</th>\n",
              "      <td>2017-01-01 09:00:00</td>\n",
              "      <td>-1.1</td>\n",
              "      <td>0.0</td>\n",
              "      <td>97.9</td>\n",
              "      <td>55</td>\n",
              "      <td>SUN</td>\n",
              "      <td>1</td>\n",
              "      <td>0</td>\n",
              "    </tr>\n",
              "    <tr>\n",
              "      <th>1</th>\n",
              "      <td>2017-01-01 10:00:00</td>\n",
              "      <td>-0.5</td>\n",
              "      <td>0.0</td>\n",
              "      <td>97.7</td>\n",
              "      <td>78</td>\n",
              "      <td>SUN</td>\n",
              "      <td>1</td>\n",
              "      <td>0</td>\n",
              "    </tr>\n",
              "    <tr>\n",
              "      <th>2</th>\n",
              "      <td>2017-01-01 11:00:00</td>\n",
              "      <td>0.6</td>\n",
              "      <td>0.0</td>\n",
              "      <td>97.9</td>\n",
              "      <td>171</td>\n",
              "      <td>SUN</td>\n",
              "      <td>1</td>\n",
              "      <td>0</td>\n",
              "    </tr>\n",
              "    <tr>\n",
              "      <th>3</th>\n",
              "      <td>2017-01-01 12:00:00</td>\n",
              "      <td>2.2</td>\n",
              "      <td>0.0</td>\n",
              "      <td>96.3</td>\n",
              "      <td>203</td>\n",
              "      <td>SUN</td>\n",
              "      <td>1</td>\n",
              "      <td>0</td>\n",
              "    </tr>\n",
              "    <tr>\n",
              "      <th>4</th>\n",
              "      <td>2017-01-01 13:00:00</td>\n",
              "      <td>5.5</td>\n",
              "      <td>0.0</td>\n",
              "      <td>73.2</td>\n",
              "      <td>398</td>\n",
              "      <td>SUN</td>\n",
              "      <td>1</td>\n",
              "      <td>0</td>\n",
              "    </tr>\n",
              "  </tbody>\n",
              "</table>\n",
              "</div>"
            ],
            "text/plain": [
              "                  date    c   mm     h  loan days  holiday  workingday\n",
              "0  2017-01-01 09:00:00 -1.1  0.0  97.9    55  SUN        1           0\n",
              "1  2017-01-01 10:00:00 -0.5  0.0  97.7    78  SUN        1           0\n",
              "2  2017-01-01 11:00:00  0.6  0.0  97.9   171  SUN        1           0\n",
              "3  2017-01-01 12:00:00  2.2  0.0  96.3   203  SUN        1           0\n",
              "4  2017-01-01 13:00:00  5.5  0.0  73.2   398  SUN        1           0"
            ]
          },
          "metadata": {
            "tags": []
          },
          "execution_count": 6
        }
      ]
    },
    {
      "cell_type": "code",
      "metadata": {
        "id": "0D-83VHlU3xz",
        "colab_type": "code",
        "colab": {}
      },
      "source": [
        "train['date']=train['date'].astype(str)"
      ],
      "execution_count": 0,
      "outputs": []
    },
    {
      "cell_type": "code",
      "metadata": {
        "id": "KnEF6S-nU540",
        "colab_type": "code",
        "outputId": "df47a4d3-8cd4-45a1-c05a-b6d4b797f8a9",
        "colab": {
          "base_uri": "https://localhost:8080/",
          "height": 198
        }
      },
      "source": [
        "###   계절 컬럼 만들어줌\n",
        "list4 = []\n",
        "\n",
        "for i in train['date']:\n",
        "  b = i[5:7]\n",
        "  if b == '01' :\n",
        "    list4.append(1)\n",
        "  elif b == '02' :\n",
        "    list4.append(1)\n",
        "  elif b == '03' :\n",
        "    list4.append(1)\n",
        "  elif b == '04' :\n",
        "    list4.append(2)\n",
        "  elif b == '05' :\n",
        "    list4.append(2)            \n",
        "  elif b == '06' :\n",
        "    list4.append(2)\n",
        "  elif b == '07' :\n",
        "    list4.append(3)\n",
        "  elif b == '08' :\n",
        "    list4.append(3)\n",
        "  elif b == '09' :\n",
        "    list4.append(3)\n",
        "  elif b == '10' :\n",
        "    list4.append(4)\n",
        "  elif b == '11' :\n",
        "    list4.append(4)  \n",
        "  elif b == '12' :\n",
        "    list4.append(4)\n",
        "    \n",
        "train['season'] = list4\n",
        "train.head()"
      ],
      "execution_count": 8,
      "outputs": [
        {
          "output_type": "execute_result",
          "data": {
            "text/html": [
              "<div>\n",
              "<style scoped>\n",
              "    .dataframe tbody tr th:only-of-type {\n",
              "        vertical-align: middle;\n",
              "    }\n",
              "\n",
              "    .dataframe tbody tr th {\n",
              "        vertical-align: top;\n",
              "    }\n",
              "\n",
              "    .dataframe thead th {\n",
              "        text-align: right;\n",
              "    }\n",
              "</style>\n",
              "<table border=\"1\" class=\"dataframe\">\n",
              "  <thead>\n",
              "    <tr style=\"text-align: right;\">\n",
              "      <th></th>\n",
              "      <th>date</th>\n",
              "      <th>c</th>\n",
              "      <th>mm</th>\n",
              "      <th>h</th>\n",
              "      <th>loan</th>\n",
              "      <th>days</th>\n",
              "      <th>holiday</th>\n",
              "      <th>workingday</th>\n",
              "      <th>season</th>\n",
              "    </tr>\n",
              "  </thead>\n",
              "  <tbody>\n",
              "    <tr>\n",
              "      <th>0</th>\n",
              "      <td>2017-01-01 09:00:00</td>\n",
              "      <td>-1.1</td>\n",
              "      <td>0.0</td>\n",
              "      <td>97.9</td>\n",
              "      <td>55</td>\n",
              "      <td>SUN</td>\n",
              "      <td>1</td>\n",
              "      <td>0</td>\n",
              "      <td>1</td>\n",
              "    </tr>\n",
              "    <tr>\n",
              "      <th>1</th>\n",
              "      <td>2017-01-01 10:00:00</td>\n",
              "      <td>-0.5</td>\n",
              "      <td>0.0</td>\n",
              "      <td>97.7</td>\n",
              "      <td>78</td>\n",
              "      <td>SUN</td>\n",
              "      <td>1</td>\n",
              "      <td>0</td>\n",
              "      <td>1</td>\n",
              "    </tr>\n",
              "    <tr>\n",
              "      <th>2</th>\n",
              "      <td>2017-01-01 11:00:00</td>\n",
              "      <td>0.6</td>\n",
              "      <td>0.0</td>\n",
              "      <td>97.9</td>\n",
              "      <td>171</td>\n",
              "      <td>SUN</td>\n",
              "      <td>1</td>\n",
              "      <td>0</td>\n",
              "      <td>1</td>\n",
              "    </tr>\n",
              "    <tr>\n",
              "      <th>3</th>\n",
              "      <td>2017-01-01 12:00:00</td>\n",
              "      <td>2.2</td>\n",
              "      <td>0.0</td>\n",
              "      <td>96.3</td>\n",
              "      <td>203</td>\n",
              "      <td>SUN</td>\n",
              "      <td>1</td>\n",
              "      <td>0</td>\n",
              "      <td>1</td>\n",
              "    </tr>\n",
              "    <tr>\n",
              "      <th>4</th>\n",
              "      <td>2017-01-01 13:00:00</td>\n",
              "      <td>5.5</td>\n",
              "      <td>0.0</td>\n",
              "      <td>73.2</td>\n",
              "      <td>398</td>\n",
              "      <td>SUN</td>\n",
              "      <td>1</td>\n",
              "      <td>0</td>\n",
              "      <td>1</td>\n",
              "    </tr>\n",
              "  </tbody>\n",
              "</table>\n",
              "</div>"
            ],
            "text/plain": [
              "                  date    c   mm     h  loan days  holiday  workingday  season\n",
              "0  2017-01-01 09:00:00 -1.1  0.0  97.9    55  SUN        1           0       1\n",
              "1  2017-01-01 10:00:00 -0.5  0.0  97.7    78  SUN        1           0       1\n",
              "2  2017-01-01 11:00:00  0.6  0.0  97.9   171  SUN        1           0       1\n",
              "3  2017-01-01 12:00:00  2.2  0.0  96.3   203  SUN        1           0       1\n",
              "4  2017-01-01 13:00:00  5.5  0.0  73.2   398  SUN        1           0       1"
            ]
          },
          "metadata": {
            "tags": []
          },
          "execution_count": 8
        }
      ]
    },
    {
      "cell_type": "code",
      "metadata": {
        "id": "9jPqPoxGMDvP",
        "colab_type": "code",
        "outputId": "3a16b687-ca19-4236-f880-fee895dda79b",
        "colab": {
          "base_uri": "https://localhost:8080/",
          "height": 272
        }
      },
      "source": [
        "###   데이터 속성 확인\n",
        "train.info()"
      ],
      "execution_count": 9,
      "outputs": [
        {
          "output_type": "stream",
          "text": [
            "<class 'pandas.core.frame.DataFrame'>\n",
            "RangeIndex: 10942 entries, 0 to 10941\n",
            "Data columns (total 9 columns):\n",
            "date          10942 non-null object\n",
            "c             10942 non-null float64\n",
            "mm            10942 non-null float64\n",
            "h             10942 non-null float64\n",
            "loan          10942 non-null int64\n",
            "days          10942 non-null object\n",
            "holiday       10942 non-null int64\n",
            "workingday    10942 non-null int64\n",
            "season        10942 non-null int64\n",
            "dtypes: float64(3), int64(4), object(2)\n",
            "memory usage: 769.4+ KB\n"
          ],
          "name": "stdout"
        }
      ]
    },
    {
      "cell_type": "code",
      "metadata": {
        "id": "FdvTM1o6VC4q",
        "colab_type": "code",
        "colab": {}
      },
      "source": [
        "# date 다시 데이트타임으로 변환\n",
        "train['date'] = pd.to_datetime(train['date'], errors='coerce')"
      ],
      "execution_count": 0,
      "outputs": []
    },
    {
      "cell_type": "code",
      "metadata": {
        "id": "1HfP1IuAVNGn",
        "colab_type": "code",
        "outputId": "6b108b4c-6404-4216-dd66-cd93dbb545b8",
        "colab": {
          "base_uri": "https://localhost:8080/",
          "height": 35
        }
      },
      "source": [
        "### 년, 월, 일, 시, 분, 초 칼럼 따로 만들어줌\n",
        "train[\"year\"] = train[\"date\"].dt.year\n",
        "train[\"month\"] = train[\"date\"].dt.month\n",
        "train[\"dayofweek\"] = train[\"date\"].dt.dayofweek\n",
        "train[\"hour\"] = train[\"date\"].dt.hour\n",
        "\n",
        "train.shape"
      ],
      "execution_count": 11,
      "outputs": [
        {
          "output_type": "execute_result",
          "data": {
            "text/plain": [
              "(10942, 13)"
            ]
          },
          "metadata": {
            "tags": []
          },
          "execution_count": 11
        }
      ]
    },
    {
      "cell_type": "markdown",
      "metadata": {
        "id": "jVwnUSM0QwbX",
        "colab_type": "text"
      },
      "source": [
        "# 테스트 사이즈 30% 사용"
      ]
    },
    {
      "cell_type": "code",
      "metadata": {
        "id": "1NbrP1GfJxrx",
        "colab_type": "code",
        "colab": {
          "base_uri": "https://localhost:8080/",
          "height": 35
        },
        "outputId": "f641d43d-fc53-4374-c9a3-ac20ad7814c8"
      },
      "source": [
        "test = train[int(len(train) * 0.3):]\n",
        "\n",
        "test.shape"
      ],
      "execution_count": 12,
      "outputs": [
        {
          "output_type": "execute_result",
          "data": {
            "text/plain": [
              "(7660, 13)"
            ]
          },
          "metadata": {
            "tags": []
          },
          "execution_count": 12
        }
      ]
    },
    {
      "cell_type": "code",
      "metadata": {
        "id": "32OK-S9KPeQU",
        "colab_type": "code",
        "outputId": "b31da529-5b71-4368-c176-5b164e5685f7",
        "colab": {
          "base_uri": "https://localhost:8080/",
          "height": 35
        }
      },
      "source": [
        "train[\"year\"] = train[\"date\"].dt.year\n",
        "train[\"month\"] = train[\"date\"].dt.month\n",
        "train[\"day\"] = train[\"date\"].dt.day\n",
        "train[\"hour\"] = train[\"date\"].dt.hour\n",
        "train[\"minute\"] = train[\"date\"].dt.minute\n",
        "train[\"second\"] = train[\"date\"].dt.second\n",
        "train[\"dayofweek\"] = train[\"date\"].dt.dayofweek\n",
        "train.shape"
      ],
      "execution_count": 13,
      "outputs": [
        {
          "output_type": "execute_result",
          "data": {
            "text/plain": [
              "(10942, 16)"
            ]
          },
          "metadata": {
            "tags": []
          },
          "execution_count": 13
        }
      ]
    },
    {
      "cell_type": "code",
      "metadata": {
        "id": "qJzfZ3tpQqV-",
        "colab_type": "code",
        "outputId": "16f3aae6-1544-412a-f971-8cb3990353b8",
        "colab": {
          "base_uri": "https://localhost:8080/",
          "height": 35
        }
      },
      "source": [
        "test[\"year\"] = test[\"date\"].dt.year\n",
        "test[\"month\"] = test[\"date\"].dt.month\n",
        "test[\"day\"] = test[\"date\"].dt.day\n",
        "test[\"hour\"] = test[\"date\"].dt.hour\n",
        "test[\"minute\"] = test[\"date\"].dt.minute\n",
        "test[\"second\"] = test[\"date\"].dt.second\n",
        "test[\"dayofweek\"] = test[\"date\"].dt.dayofweek\n",
        "test.shape"
      ],
      "execution_count": 14,
      "outputs": [
        {
          "output_type": "execute_result",
          "data": {
            "text/plain": [
              "(7660, 16)"
            ]
          },
          "metadata": {
            "tags": []
          },
          "execution_count": 14
        }
      ]
    },
    {
      "cell_type": "markdown",
      "metadata": {
        "id": "pHv-9O-rXs_y",
        "colab_type": "text"
      },
      "source": [
        "# Feature Selection\n",
        "\n",
        "*   신호와 잡음을 구분해야 한다.\n",
        "*   피처가 많다고 해서 무조건 좋은 성능을 내지 않는다.\n",
        "*   피처를 하나씩 추가하고 변경해 가면서 성능이 좋지 않은 피처는 제거하도록 한다.\n",
        "\n"
      ]
    },
    {
      "cell_type": "code",
      "metadata": {
        "id": "TaR69cZaXHYa",
        "colab_type": "code",
        "colab": {}
      },
      "source": [
        "# 연속형 feature와 범주형 feature \n",
        "# 연속형 feature = [\"c\",\"mm\",\"h\"]\n",
        "# 범주형 feature의 type을 category로 변경 해 준다.\n",
        "categorical_feature_names = [\"season\",\"holiday\",\"workingday\",\n",
        "                             \"dayofweek\",\"month\",\"year\",\"hour\"]\n",
        "\n",
        "for var in categorical_feature_names:\n",
        "    train[var] = train[var].astype(\"category\")\n",
        "    test[var] = test[var].astype(\"category\")"
      ],
      "execution_count": 0,
      "outputs": []
    },
    {
      "cell_type": "code",
      "metadata": {
        "id": "FwLcZTCgXHVv",
        "colab_type": "code",
        "outputId": "4faa84cb-2e9d-4b72-deb7-5dec13b3450a",
        "colab": {
          "base_uri": "https://localhost:8080/",
          "height": 35
        }
      },
      "source": [
        "feature_names = [\"season\", \"c\", \"h\", \"year\", \"hour\",\n",
        "                 \"dayofweek\", \"holiday\", \"workingday\"]\n",
        "\n",
        "feature_names"
      ],
      "execution_count": 16,
      "outputs": [
        {
          "output_type": "execute_result",
          "data": {
            "text/plain": [
              "['season', 'c', 'h', 'year', 'hour', 'dayofweek', 'holiday', 'workingday']"
            ]
          },
          "metadata": {
            "tags": []
          },
          "execution_count": 16
        }
      ]
    },
    {
      "cell_type": "code",
      "metadata": {
        "id": "r2BgFZgvXHTi",
        "colab_type": "code",
        "outputId": "f22c9a39-74ad-470b-8073-f5e1d75d696e",
        "colab": {
          "base_uri": "https://localhost:8080/",
          "height": 216
        }
      },
      "source": [
        "X_train = train[feature_names]\n",
        "\n",
        "print(X_train.shape)\n",
        "X_train.head()"
      ],
      "execution_count": 17,
      "outputs": [
        {
          "output_type": "stream",
          "text": [
            "(10942, 8)\n"
          ],
          "name": "stdout"
        },
        {
          "output_type": "execute_result",
          "data": {
            "text/html": [
              "<div>\n",
              "<style scoped>\n",
              "    .dataframe tbody tr th:only-of-type {\n",
              "        vertical-align: middle;\n",
              "    }\n",
              "\n",
              "    .dataframe tbody tr th {\n",
              "        vertical-align: top;\n",
              "    }\n",
              "\n",
              "    .dataframe thead th {\n",
              "        text-align: right;\n",
              "    }\n",
              "</style>\n",
              "<table border=\"1\" class=\"dataframe\">\n",
              "  <thead>\n",
              "    <tr style=\"text-align: right;\">\n",
              "      <th></th>\n",
              "      <th>season</th>\n",
              "      <th>c</th>\n",
              "      <th>h</th>\n",
              "      <th>year</th>\n",
              "      <th>hour</th>\n",
              "      <th>dayofweek</th>\n",
              "      <th>holiday</th>\n",
              "      <th>workingday</th>\n",
              "    </tr>\n",
              "  </thead>\n",
              "  <tbody>\n",
              "    <tr>\n",
              "      <th>0</th>\n",
              "      <td>1</td>\n",
              "      <td>-1.1</td>\n",
              "      <td>97.9</td>\n",
              "      <td>2017</td>\n",
              "      <td>9</td>\n",
              "      <td>6</td>\n",
              "      <td>1</td>\n",
              "      <td>0</td>\n",
              "    </tr>\n",
              "    <tr>\n",
              "      <th>1</th>\n",
              "      <td>1</td>\n",
              "      <td>-0.5</td>\n",
              "      <td>97.7</td>\n",
              "      <td>2017</td>\n",
              "      <td>10</td>\n",
              "      <td>6</td>\n",
              "      <td>1</td>\n",
              "      <td>0</td>\n",
              "    </tr>\n",
              "    <tr>\n",
              "      <th>2</th>\n",
              "      <td>1</td>\n",
              "      <td>0.6</td>\n",
              "      <td>97.9</td>\n",
              "      <td>2017</td>\n",
              "      <td>11</td>\n",
              "      <td>6</td>\n",
              "      <td>1</td>\n",
              "      <td>0</td>\n",
              "    </tr>\n",
              "    <tr>\n",
              "      <th>3</th>\n",
              "      <td>1</td>\n",
              "      <td>2.2</td>\n",
              "      <td>96.3</td>\n",
              "      <td>2017</td>\n",
              "      <td>12</td>\n",
              "      <td>6</td>\n",
              "      <td>1</td>\n",
              "      <td>0</td>\n",
              "    </tr>\n",
              "    <tr>\n",
              "      <th>4</th>\n",
              "      <td>1</td>\n",
              "      <td>5.5</td>\n",
              "      <td>73.2</td>\n",
              "      <td>2017</td>\n",
              "      <td>13</td>\n",
              "      <td>6</td>\n",
              "      <td>1</td>\n",
              "      <td>0</td>\n",
              "    </tr>\n",
              "  </tbody>\n",
              "</table>\n",
              "</div>"
            ],
            "text/plain": [
              "  season    c     h  year hour dayofweek holiday workingday\n",
              "0      1 -1.1  97.9  2017    9         6       1          0\n",
              "1      1 -0.5  97.7  2017   10         6       1          0\n",
              "2      1  0.6  97.9  2017   11         6       1          0\n",
              "3      1  2.2  96.3  2017   12         6       1          0\n",
              "4      1  5.5  73.2  2017   13         6       1          0"
            ]
          },
          "metadata": {
            "tags": []
          },
          "execution_count": 17
        }
      ]
    },
    {
      "cell_type": "code",
      "metadata": {
        "id": "lMRO50v_XHQY",
        "colab_type": "code",
        "outputId": "dccccd73-2bda-41a3-d9a5-669ae5ed8586",
        "colab": {
          "base_uri": "https://localhost:8080/",
          "height": 216
        }
      },
      "source": [
        "X_test = test[feature_names]\n",
        "\n",
        "print(X_test.shape)\n",
        "X_test.head()"
      ],
      "execution_count": 18,
      "outputs": [
        {
          "output_type": "stream",
          "text": [
            "(7660, 8)\n"
          ],
          "name": "stdout"
        },
        {
          "output_type": "execute_result",
          "data": {
            "text/html": [
              "<div>\n",
              "<style scoped>\n",
              "    .dataframe tbody tr th:only-of-type {\n",
              "        vertical-align: middle;\n",
              "    }\n",
              "\n",
              "    .dataframe tbody tr th {\n",
              "        vertical-align: top;\n",
              "    }\n",
              "\n",
              "    .dataframe thead th {\n",
              "        text-align: right;\n",
              "    }\n",
              "</style>\n",
              "<table border=\"1\" class=\"dataframe\">\n",
              "  <thead>\n",
              "    <tr style=\"text-align: right;\">\n",
              "      <th></th>\n",
              "      <th>season</th>\n",
              "      <th>c</th>\n",
              "      <th>h</th>\n",
              "      <th>year</th>\n",
              "      <th>hour</th>\n",
              "      <th>dayofweek</th>\n",
              "      <th>holiday</th>\n",
              "      <th>workingday</th>\n",
              "    </tr>\n",
              "  </thead>\n",
              "  <tbody>\n",
              "    <tr>\n",
              "      <th>3282</th>\n",
              "      <td>4</td>\n",
              "      <td>13.5</td>\n",
              "      <td>82.5</td>\n",
              "      <td>2017</td>\n",
              "      <td>12</td>\n",
              "      <td>3</td>\n",
              "      <td>0</td>\n",
              "      <td>1</td>\n",
              "    </tr>\n",
              "    <tr>\n",
              "      <th>3283</th>\n",
              "      <td>4</td>\n",
              "      <td>13.2</td>\n",
              "      <td>88.8</td>\n",
              "      <td>2017</td>\n",
              "      <td>13</td>\n",
              "      <td>3</td>\n",
              "      <td>0</td>\n",
              "      <td>1</td>\n",
              "    </tr>\n",
              "    <tr>\n",
              "      <th>3284</th>\n",
              "      <td>4</td>\n",
              "      <td>13.3</td>\n",
              "      <td>91.7</td>\n",
              "      <td>2017</td>\n",
              "      <td>14</td>\n",
              "      <td>3</td>\n",
              "      <td>0</td>\n",
              "      <td>1</td>\n",
              "    </tr>\n",
              "    <tr>\n",
              "      <th>3285</th>\n",
              "      <td>4</td>\n",
              "      <td>13.3</td>\n",
              "      <td>87.0</td>\n",
              "      <td>2017</td>\n",
              "      <td>15</td>\n",
              "      <td>3</td>\n",
              "      <td>0</td>\n",
              "      <td>1</td>\n",
              "    </tr>\n",
              "    <tr>\n",
              "      <th>3286</th>\n",
              "      <td>4</td>\n",
              "      <td>13.3</td>\n",
              "      <td>88.8</td>\n",
              "      <td>2017</td>\n",
              "      <td>16</td>\n",
              "      <td>3</td>\n",
              "      <td>0</td>\n",
              "      <td>1</td>\n",
              "    </tr>\n",
              "  </tbody>\n",
              "</table>\n",
              "</div>"
            ],
            "text/plain": [
              "     season     c     h  year hour dayofweek holiday workingday\n",
              "3282      4  13.5  82.5  2017   12         3       0          1\n",
              "3283      4  13.2  88.8  2017   13         3       0          1\n",
              "3284      4  13.3  91.7  2017   14         3       0          1\n",
              "3285      4  13.3  87.0  2017   15         3       0          1\n",
              "3286      4  13.3  88.8  2017   16         3       0          1"
            ]
          },
          "metadata": {
            "tags": []
          },
          "execution_count": 18
        }
      ]
    },
    {
      "cell_type": "code",
      "metadata": {
        "id": "Ckc8QrObXHN5",
        "colab_type": "code",
        "outputId": "e5849096-f615-4c01-f9e1-b95c4dba65b1",
        "colab": {
          "base_uri": "https://localhost:8080/",
          "height": 145
        }
      },
      "source": [
        "label_name = \"loan\"\n",
        "\n",
        "y_train = train[label_name]\n",
        "\n",
        "print(y_train.shape)\n",
        "y_train.head()"
      ],
      "execution_count": 19,
      "outputs": [
        {
          "output_type": "stream",
          "text": [
            "(10942,)\n"
          ],
          "name": "stdout"
        },
        {
          "output_type": "execute_result",
          "data": {
            "text/plain": [
              "0     55\n",
              "1     78\n",
              "2    171\n",
              "3    203\n",
              "4    398\n",
              "Name: loan, dtype: int64"
            ]
          },
          "metadata": {
            "tags": []
          },
          "execution_count": 19
        }
      ]
    },
    {
      "cell_type": "markdown",
      "metadata": {
        "id": "sgzEJXg3Yqtw",
        "colab_type": "text"
      },
      "source": [
        "# Score\n",
        "# RMSLE\n",
        "\n",
        "과대평가 된 항목보다는 과소평가 된 항목에 패널티를 준다.\n",
        "\n",
        "오차(Error)를 제곱(Square)해서 평균(Mean)한 값의 제곱근(Root) 으로 값이 작을 수록 정밀도가 높다.\n",
        "\n",
        "0에 가까운 값이 나올 수록 정밀도가 높은 값이다.\n",
        "\n",
        "Submissions are evaluated one the Root Mean Squared Logarithmic Error (RMSLE)\n",
        "\n",
        "![대체 텍스트](https://render.githubusercontent.com/render/math?math=%5Csqrt%7B%5Cfrac%7B1%7D%7Bn%7D%20%5Csum_%7Bi%3D1%7D%5En%20%28%5Clog%28p_i%20%2B%201%29%20-%20%5Clog%28a_i%2B1%29%29%5E2%20%7D&mode=display)\n",
        "\n",
        "\n",
        "\n",
        "*   ${n}$ is the number of hours in the test set\n",
        "*$p_i$ is your predicted count\n",
        "*$a_i$ is the actual count\n",
        "*$\\log(x)$ is the natural logarithm\n",
        "\n",
        "*좀 더 자세한 설명은 : RMSLE cost function\n",
        "\n",
        "*잔차(residual)에 대한 평균에 로그를 씌운 값이다. => 과대평가 된 항목보다 과소 평가 된 항목에 패널티를 주기위해\n",
        "\n",
        "*정답에 대한 오류를 숫자로 나타낸 값으로 값이 클 수록 오차가 크다는 의미다.\n",
        "값이 작을 수록 오류가 적다는 의미를 나타낸다.\n",
        "\n",
        "![대체 텍스트](https://camo.githubusercontent.com/215b635af41ad39e41f0396e1a0578042647e0f3/68747470733a2f2f75706c6f61642e77696b696d656469612e6f72672f77696b6970656469612f636f6d6d6f6e732f7468756d622f372f37332f4c6f6761726974686d732e7376672f34353670782d4c6f6761726974686d732e7376672e706e67)\n",
        "\n"
      ]
    },
    {
      "cell_type": "code",
      "metadata": {
        "id": "vu_ZIecdXHLM",
        "colab_type": "code",
        "outputId": "c282c7bb-5ab5-4474-db80-4d63b7f49829",
        "colab": {
          "base_uri": "https://localhost:8080/",
          "height": 35
        }
      },
      "source": [
        "from sklearn.metrics import make_scorer\n",
        "\n",
        "def rmsle(predicted_values, actual_values):\n",
        "    # 넘파이로 배열 형태로 바꿔준다.\n",
        "    predicted_values = np.array(predicted_values)\n",
        "    actual_values = np.array(actual_values)\n",
        "    \n",
        "    # 예측값과 실제 값에 1을 더하고 로그를 씌워준다.\n",
        "    log_predict = np.log(predicted_values + 1)\n",
        "    log_actual = np.log(actual_values + 1)\n",
        "    \n",
        "    # 위에서 계산한 예측값에서 실제값을 빼주고 제곱을 해준다.\n",
        "    difference = log_predict - log_actual\n",
        "    # difference = (log_predict - log_actual) ** 2\n",
        "    difference = np.square(difference)\n",
        "    \n",
        "    # 평균을 낸다.\n",
        "    mean_difference = difference.mean()\n",
        "    \n",
        "    # 다시 루트를 씌운다.\n",
        "    score = np.sqrt(mean_difference)\n",
        "    \n",
        "    return score\n",
        "\n",
        "rmsle_scorer = make_scorer(rmsle)\n",
        "rmsle_scorer"
      ],
      "execution_count": 20,
      "outputs": [
        {
          "output_type": "execute_result",
          "data": {
            "text/plain": [
              "make_scorer(rmsle)"
            ]
          },
          "metadata": {
            "tags": []
          },
          "execution_count": 20
        }
      ]
    },
    {
      "cell_type": "markdown",
      "metadata": {
        "id": "Ns8s1Xn6CCrH",
        "colab_type": "text"
      },
      "source": [
        "# 선형회귀 모델 Linear Regression Model\n",
        "\n",
        "\n",
        "*  선형회귀 또는 최소제곱법은 가장 간단하고 오래된 회귀용 선형 알고리즘\n",
        "* 선형회귀는 예측과 훈련 세트에 있는 타깃 y사이의 평균제곱오차(MSE)를 최소화하는 파라미터 w와 b를 찾는다.\n",
        "* 매개변수가 없는 것이 장점이지만, 모델의 복잡도를 제어할 수 없다는 단점이 있다. \n",
        "* 아래 위키피디아에서 가져 온 그래프에서 파란선이 선형회귀 모델을 나타내고 빨간점들이 훈련데이터를 나타낸다.\n",
        "\n",
        "![대체 텍스트](https://camo.githubusercontent.com/5fad4f2b1ab5ddac6476f6c2334a0cd044d30bcf/68747470733a2f2f75706c6f61642e77696b696d656469612e6f72672f77696b6970656469612f636f6d6d6f6e732f622f62652f4e6f726d646973745f72656772657373696f6e2e706e67)\n",
        "\n",
        "\n"
      ]
    },
    {
      "cell_type": "code",
      "metadata": {
        "id": "uUK6FGOXEUkl",
        "colab_type": "code",
        "colab": {}
      },
      "source": [
        "from sklearn.linear_model import LinearRegression, Ridge, Lasso\n",
        "from sklearn.model_selection import GridSearchCV\n",
        "from sklearn import metrics\n",
        "import warnings\n",
        "pd.options.mode.chained_assignment = None\n",
        "warnings.filterwarnings(\"ignore\", category=DeprecationWarning)"
      ],
      "execution_count": 0,
      "outputs": []
    },
    {
      "cell_type": "code",
      "metadata": {
        "id": "Axr5FHH2CBm1",
        "colab_type": "code",
        "colab": {
          "base_uri": "https://localhost:8080/",
          "height": 35
        },
        "outputId": "79403da2-d45e-4c19-d7fc-19eb0ecfc01f"
      },
      "source": [
        "# 선형회귀 모델을 초기화\n",
        "lModel = LinearRegression()\n",
        "\n",
        "# 모델을 학습시킨다.\n",
        "y_train_log = np.log1p(y_train)\n",
        "lModel.fit(X_train, y_train_log)\n",
        "\n",
        "# 예측하고 정확도를 평가한다.\n",
        "preds = lModel.predict(X_train)\n",
        "print (\"RMSLE Value For Linear Regression: \",\n",
        "       rmsle(np.exp(y_train_log),np.exp(preds)))"
      ],
      "execution_count": 22,
      "outputs": [
        {
          "output_type": "stream",
          "text": [
            "RMSLE Value For Linear Regression:  1.3662537448538297\n"
          ],
          "name": "stdout"
        }
      ]
    },
    {
      "cell_type": "markdown",
      "metadata": {
        "id": "-zB6EkwRFqH4",
        "colab_type": "text"
      },
      "source": [
        "# 릿지 Regularization Model - Ridge\n",
        "\n",
        "\n",
        "*   회귀를 위한 선형모델\n",
        "*   가중치(w)의 모든 원소가 0에 가깝게 만들어 모든 피처가 주는 영향을 최소화(기울기를 작게 만듦)\n",
        "*   Regularization(정규화)는 오버피팅(과대적합)이 되지 않도록 모델을 강제로 제한한다는 의미\n",
        "*   max_iter(반복 실행하는 최대 횟수)는 3000을 넣어주었다.\n",
        "\n",
        "\n"
      ]
    },
    {
      "cell_type": "code",
      "metadata": {
        "id": "LkIPEEDkCBhs",
        "colab_type": "code",
        "colab": {
          "base_uri": "https://localhost:8080/",
          "height": 428
        },
        "outputId": "2e179db7-9972-4b07-8ef3-4da886661dc8"
      },
      "source": [
        "ridge_m_ = Ridge()\n",
        "ridge_params_ = { 'max_iter':[3000],'alpha':[0.01, 0.1, 1, 2, 3, 4, 10, 30,100,200,300,400,800,900,1000]}\n",
        "rmsle_scorer = metrics.make_scorer(rmsle, greater_is_better=False)\n",
        "grid_ridge_m = GridSearchCV( ridge_m_,\n",
        "                          ridge_params_,\n",
        "                          scoring = rmsle_scorer,\n",
        "                          cv=5)\n",
        "\n",
        "y_train_log = np.log1p(y_train)\n",
        "grid_ridge_m.fit( X_train, y_train_log )\n",
        "preds = grid_ridge_m.predict(X_train)\n",
        "print (grid_ridge_m.best_params_)\n",
        "print (\"RMSLE Value For Ridge Regression: \", rmsle(np.exp(y_train_log),np.exp(preds)))\n",
        "\n",
        "fig,ax= plt.subplots()\n",
        "fig.set_size_inches(12,5)\n",
        "\n",
        "df = pd.DataFrame(grid_ridge_m.cv_results_)\n",
        "df[\"alpha\"] = df[\"params\"].apply(lambda x:x[\"alpha\"])\n",
        "df[\"rmsle\"] = df[\"mean_test_score\"].apply(lambda x:-x)\n",
        "\n",
        "plt.xticks(rotation=30, ha='right')\n",
        "sns.pointplot(data=df,x=\"alpha\",y=\"rmsle\",ax=ax)"
      ],
      "execution_count": 26,
      "outputs": [
        {
          "output_type": "stream",
          "text": [
            "{'alpha': 1000, 'max_iter': 3000}\n",
            "RMSLE Value For Ridge Regression:  1.3663795245188097\n"
          ],
          "name": "stdout"
        },
        {
          "output_type": "execute_result",
          "data": {
            "text/plain": [
              "<matplotlib.axes._subplots.AxesSubplot at 0x7fcd5ca279b0>"
            ]
          },
          "metadata": {
            "tags": []
          },
          "execution_count": 26
        },
        {
          "output_type": "display_data",
          "data": {
            "image/png": "[encoded data removed]",
            "text/plain": [
              "<Figure size 864x360 with 1 Axes>"
            ]
          },
          "metadata": {
            "tags": []
          }
        }
      ]
    },
    {
      "cell_type": "code",
      "metadata": {
        "id": "yT9wKhJWNxnK",
        "colab_type": "code",
        "colab": {}
      },
      "source": [
        ""
      ],
      "execution_count": 0,
      "outputs": []
    },
    {
      "cell_type": "markdown",
      "metadata": {
        "id": "0iXy8s-GNygz",
        "colab_type": "text"
      },
      "source": [
        "# 라쏘 Regularization Model - Lasso\n",
        "\n",
        "\n",
        "*  선형회귀의 Regularization(규제)를 적용하는 대안\n",
        "*  계수를 0에 가깝게 만들려고 하며 이를 L1규제라고 하며, 어떤 계수는 0이 되기도 하는데 이는 완전히 제외하는 피처가 생긴다는 의미다.\n",
        "*  피처 선택이 자동으로 이루어진다고도 볼 수 있다.\n",
        "*  alpha 값의 기본 값은 1.0이며, 과소 적합을 줄이기 위해서는 이 값을 줄여야 한다.\n",
        "*  그리드 서치로 아래 라쏘모델을 실행했을 때 베스트 알파값은 0.0025\n",
        "*  max_iter(반복 실행하는 최대 횟수)는 3000을 넣어주었다.\n",
        "\n"
      ]
    },
    {
      "cell_type": "code",
      "metadata": {
        "id": "dtJJ5fm6CBcm",
        "colab_type": "code",
        "colab": {
          "base_uri": "https://localhost:8080/",
          "height": 475
        },
        "outputId": "d59efc95-117a-40f4-88be-130405e64c29"
      },
      "source": [
        "lasso_m_ = Lasso()\n",
        "\n",
        "alpha  = 1/np.array([0.1, 1, 2, 3, 4, 10, 30,100,200,300,400,800,900,1000])\n",
        "lasso_params_ = { 'max_iter':[3000],'alpha':alpha}\n",
        "\n",
        "grid_lasso_m = GridSearchCV( lasso_m_,lasso_params_,scoring = rmsle_scorer,cv=5)\n",
        "y_train_log = np.log1p(y_train)\n",
        "grid_lasso_m.fit( X_train , y_train_log )\n",
        "preds = grid_lasso_m.predict(X_train)\n",
        "print (grid_lasso_m.best_params_)\n",
        "print (\"RMSLE Value For Lasso Regression: \",rmsle(np.exp(y_train_log),np.exp(preds)))\n",
        "\n",
        "fig,ax= plt.subplots()\n",
        "fig.set_size_inches(12,5)\n",
        "df = pd.DataFrame(grid_lasso_m.cv_results_)\n",
        "df[\"alpha\"] = df[\"params\"].apply(lambda x:x[\"alpha\"])\n",
        "df[\"rmsle\"] = df[\"mean_test_score\"].apply(lambda x:-x)\n",
        "plt.xticks(rotation=30, ha='right')\n",
        "sns.pointplot(data=df,x=\"alpha\",y=\"rmsle\",ax=ax)"
      ],
      "execution_count": 31,
      "outputs": [
        {
          "output_type": "stream",
          "text": [
            "{'alpha': 0.1, 'max_iter': 3000}\n",
            "RMSLE Value For Lasso Regression:  1.3697802843424562\n"
          ],
          "name": "stdout"
        },
        {
          "output_type": "execute_result",
          "data": {
            "text/plain": [
              "<matplotlib.axes._subplots.AxesSubplot at 0x7fcd5c799be0>"
            ]
          },
          "metadata": {
            "tags": []
          },
          "execution_count": 31
        },
        {
          "output_type": "display_data",
          "data": {
            "image/png": "[encoded data removed]",
            "text/plain": [
              "<Figure size 864x360 with 1 Axes>"
            ]
          },
          "metadata": {
            "tags": []
          }
        }
      ]
    },
    {
      "cell_type": "markdown",
      "metadata": {
        "id": "uwNlCxSgOXkR",
        "colab_type": "text"
      },
      "source": [
        "# 앙상블모델 - 랜덤포레스트"
      ]
    },
    {
      "cell_type": "code",
      "metadata": {
        "id": "75r09SSqCtJa",
        "colab_type": "code",
        "colab": {
          "base_uri": "https://localhost:8080/",
          "height": 35
        },
        "outputId": "3f080501-e006-4626-8a29-c6c74d76fde3"
      },
      "source": [
        "from sklearn.ensemble import RandomForestRegressor\n",
        "rfModel = RandomForestRegressor(n_estimators=100)\n",
        "\n",
        "y_train_log = np.log1p(y_train)\n",
        "rfModel.fit(X_train, y_train_log)\n",
        "\n",
        "preds = rfModel.predict(X_train)\n",
        "score = rmsle(np.exp(y_train_log),np.exp(preds))\n",
        "print (\"RMSLE Value For Random Forest: \",score)"
      ],
      "execution_count": 33,
      "outputs": [
        {
          "output_type": "stream",
          "text": [
            "RMSLE Value For Random Forest:  0.20917479095173683\n"
          ],
          "name": "stdout"
        }
      ]
    },
    {
      "cell_type": "markdown",
      "metadata": {
        "id": "smpeerh4Oiv7",
        "colab_type": "text"
      },
      "source": [
        "# 앙상블모델 - 그라디언트 부스트\n",
        "# Ensemble Model - Gradient Boost\n",
        "\n",
        "\n",
        "\n",
        "*  여러개의 결정트리를 묶어 강력한 모델을 만드는 또 다른 앙상블 기법\n",
        "*  회귀와 분류에 모두 사용할 수 있음\n",
        "*  랜덤포레스트와 달리 이진 트리의 오차를 보완하는 방식으로 순차적으로 트리를 만든다.\n",
        "*  무작위성이 없고 강력한 사전 가지치기가 사용 됨\n",
        "*  1~5개의 깊지 않은 트리를 사용하기 때문에 메모리를 적게 사용하고 예측이 빠름\n",
        "*  learning_rate : 오차를 얼마나 강하게 보정할 것인지를 제어\n",
        "*  n_estimator의 값을 키우면 앙상블에 트리가 더 많이 추가 되어 모델의 복잡도가 커지고 훈련세트에서의 실수를 바로잡을 기회가 많아지지만 너무 크면 모델이 복잡해지고 오버피팅(과대적합)이 될 수 있다.\n",
        "*  max_depth(max_leaf_nodes) 복잡도를 너무 높이지 말고 트리의 깊이가 5보다 깊어지지 않게 한다.\n"
      ]
    },
    {
      "cell_type": "code",
      "metadata": {
        "id": "sKnbb58fCBSq",
        "colab_type": "code",
        "colab": {
          "base_uri": "https://localhost:8080/",
          "height": 35
        },
        "outputId": "0e318432-ceb0-4388-d95c-d96836af01eb"
      },
      "source": [
        "from sklearn.ensemble import GradientBoostingRegressor\n",
        "gbm = GradientBoostingRegressor(n_estimators=4000, alpha=0.01);\n",
        "\n",
        "y_train_log = np.log1p(y_train)\n",
        "gbm.fit(X_train, y_train_log)\n",
        "\n",
        "preds = gbm.predict(X_train)\n",
        "score = rmsle(np.exp(y_train_log),np.exp(preds))\n",
        "print (\"RMSLE Value For Gradient Boost: \", score)"
      ],
      "execution_count": 34,
      "outputs": [
        {
          "output_type": "stream",
          "text": [
            "RMSLE Value For Gradient Boost:  0.3655131746449926\n"
          ],
          "name": "stdout"
        }
      ]
    },
    {
      "cell_type": "code",
      "metadata": {
        "id": "Fh2OdQynO53Q",
        "colab_type": "code",
        "colab": {
          "base_uri": "https://localhost:8080/",
          "height": 375
        },
        "outputId": "4b49ffcb-88f0-44f8-eb3a-51debf583318"
      },
      "source": [
        "predsTest = gbm.predict(X_test)\n",
        "fig,(ax1,ax2)= plt.subplots(ncols=2)\n",
        "fig.set_size_inches(12,5)\n",
        "sns.distplot(y_train,ax=ax1,bins=50)\n",
        "sns.distplot(np.exp(predsTest),ax=ax2,bins=50)"
      ],
      "execution_count": 35,
      "outputs": [
        {
          "output_type": "execute_result",
          "data": {
            "text/plain": [
              "<matplotlib.axes._subplots.AxesSubplot at 0x7fcd5c8ca588>"
            ]
          },
          "metadata": {
            "tags": []
          },
          "execution_count": 35
        },
        {
          "output_type": "display_data",
          "data": {
            "image/png": "[encoded data removed]",
            "text/plain": [
              "<Figure size 864x360 with 2 Axes>"
            ]
          },
          "metadata": {
            "tags": []
          }
        }
      ]
    }
  ]
}