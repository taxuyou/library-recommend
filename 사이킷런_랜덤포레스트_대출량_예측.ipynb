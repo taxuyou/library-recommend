{
  "nbformat": 4,
  "nbformat_minor": 0,
  "metadata": {
    "colab": {
      "name": "사이킷런 랜덤포레스트 대출량 예측.ipynb",
      "version": "0.3.2",
      "provenance": [],
      "collapsed_sections": [],
      "machine_shape": "hm",
      "include_colab_link": true
    },
    "kernelspec": {
      "name": "python3",
      "display_name": "Python 3"
    },
    "accelerator": "GPU"
  },
  "cells": [
    {
      "cell_type": "markdown",
      "metadata": {
        "id": "view-in-github",
        "colab_type": "text"
      },
      "source": [
        "<a href=\"https://colab.research.google.com/github/taxuyou/library-recommend-and-timeseries-predict/blob/master/%EC%82%AC%EC%9D%B4%ED%82%B7%EB%9F%B0_%EB%9E%9C%EB%8D%A4%ED%8F%AC%EB%A0%88%EC%8A%A4%ED%8A%B8_%EB%8C%80%EC%B6%9C%EB%9F%89_%EC%98%88%EC%B8%A1.ipynb\" target=\"_parent\"><img src=\"https://colab.research.google.com/assets/colab-badge.svg\" alt=\"Open In Colab\"/></a>"
      ]
    },
    {
      "cell_type": "markdown",
      "metadata": {
        "id": "BmfqSBaHPj_r",
        "colab_type": "text"
      },
      "source": [
        "# 데이터 불러오기 및 전처리"
      ]
    },
    {
      "cell_type": "code",
      "metadata": {
        "id": "N8bDt_DzkQ5f",
        "colab_type": "code",
        "colab": {}
      },
      "source": [
        "#머신러닝 사이킷런 랜덤포레스트\n",
        "\n",
        "import pandas as pd\n",
        "import numpy as np\n",
        "\n",
        "import matplotlib as mpl\n",
        "import matplotlib.pyplot as plt\n",
        "import seaborn as sns\n",
        "\n",
        "# 노트북 안에 그래프를 그리기 위해\n",
        "%matplotlib inline\n",
        "\n",
        "# 그래프에서 마이너스 폰트 깨지는 문제에 대한 대처\n",
        "mpl.rcParams['axes.unicode_minus'] = False\n",
        "\n",
        "import warnings\n",
        "warnings.filterwarnings('ignore')"
      ],
      "execution_count": 0,
      "outputs": []
    },
    {
      "cell_type": "code",
      "metadata": {
        "id": "Awbz1pkekTUW",
        "colab_type": "code",
        "outputId": "6070a7c4-ba9a-4429-c4bb-717451819488",
        "colab": {
          "base_uri": "https://localhost:8080/",
          "height": 35
        }
      },
      "source": [
        "train = pd.read_csv(\"대출과날씨데이터1.csv\", parse_dates=[\"date\"])\n",
        "train.shape"
      ],
      "execution_count": 0,
      "outputs": [
        {
          "output_type": "execute_result",
          "data": {
            "text/plain": [
              "(10942, 5)"
            ]
          },
          "metadata": {
            "tags": []
          },
          "execution_count": 2
        }
      ]
    },
    {
      "cell_type": "code",
      "metadata": {
        "id": "4wFaIBaEUgpI",
        "colab_type": "code",
        "colab": {}
      },
      "source": [
        "train['date']=train['date'].astype(str)"
      ],
      "execution_count": 0,
      "outputs": []
    },
    {
      "cell_type": "code",
      "metadata": {
        "id": "flxB5dUYUmE9",
        "colab_type": "code",
        "outputId": "bfadf133-ce0b-4bb2-d147-b25cba1bbc0f",
        "colab": {
          "base_uri": "https://localhost:8080/",
          "height": 198
        }
      },
      "source": [
        "import datetime\n",
        "def getDayName(a,b,c):\n",
        "   \n",
        "  return ['MON','TUE','WED','THU','FRI','SAT','SUN'][datetime.date(int(a),int(b),int(c)).weekday()]\n",
        "\n",
        "# 리스트로 저장 -> DataFrame으로 변환순으로 가면되여\n",
        "# 빈리스트 선언\n",
        "list1 = []\n",
        "for i in train['date']:\n",
        "    a = i[0:4]\n",
        "    b = i[5:7]\n",
        "    c = i[8:10]\n",
        "    # print(getDayName(a,b,c))\n",
        "    # 리스트에 추가\n",
        "    list1.append(getDayName(a,b,c))\n",
        "\n",
        "# 리스트 -> DataFrame으로 전환    \n",
        "train['days'] = list1\n",
        "train.head()"
      ],
      "execution_count": 0,
      "outputs": [
        {
          "output_type": "execute_result",
          "data": {
            "text/html": [
              "<div>\n",
              "<style scoped>\n",
              "    .dataframe tbody tr th:only-of-type {\n",
              "        vertical-align: middle;\n",
              "    }\n",
              "\n",
              "    .dataframe tbody tr th {\n",
              "        vertical-align: top;\n",
              "    }\n",
              "\n",
              "    .dataframe thead th {\n",
              "        text-align: right;\n",
              "    }\n",
              "</style>\n",
              "<table border=\"1\" class=\"dataframe\">\n",
              "  <thead>\n",
              "    <tr style=\"text-align: right;\">\n",
              "      <th></th>\n",
              "      <th>date</th>\n",
              "      <th>c</th>\n",
              "      <th>mm</th>\n",
              "      <th>h</th>\n",
              "      <th>loan</th>\n",
              "      <th>days</th>\n",
              "    </tr>\n",
              "  </thead>\n",
              "  <tbody>\n",
              "    <tr>\n",
              "      <th>0</th>\n",
              "      <td>2017-01-01 09:00:00</td>\n",
              "      <td>-1.1</td>\n",
              "      <td>0.0</td>\n",
              "      <td>97.9</td>\n",
              "      <td>55</td>\n",
              "      <td>SUN</td>\n",
              "    </tr>\n",
              "    <tr>\n",
              "      <th>1</th>\n",
              "      <td>2017-01-01 10:00:00</td>\n",
              "      <td>-0.5</td>\n",
              "      <td>0.0</td>\n",
              "      <td>97.7</td>\n",
              "      <td>78</td>\n",
              "      <td>SUN</td>\n",
              "    </tr>\n",
              "    <tr>\n",
              "      <th>2</th>\n",
              "      <td>2017-01-01 11:00:00</td>\n",
              "      <td>0.6</td>\n",
              "      <td>0.0</td>\n",
              "      <td>97.9</td>\n",
              "      <td>171</td>\n",
              "      <td>SUN</td>\n",
              "    </tr>\n",
              "    <tr>\n",
              "      <th>3</th>\n",
              "      <td>2017-01-01 12:00:00</td>\n",
              "      <td>2.2</td>\n",
              "      <td>0.0</td>\n",
              "      <td>96.3</td>\n",
              "      <td>203</td>\n",
              "      <td>SUN</td>\n",
              "    </tr>\n",
              "    <tr>\n",
              "      <th>4</th>\n",
              "      <td>2017-01-01 13:00:00</td>\n",
              "      <td>5.5</td>\n",
              "      <td>0.0</td>\n",
              "      <td>73.2</td>\n",
              "      <td>398</td>\n",
              "      <td>SUN</td>\n",
              "    </tr>\n",
              "  </tbody>\n",
              "</table>\n",
              "</div>"
            ],
            "text/plain": [
              "                  date    c   mm     h  loan days\n",
              "0  2017-01-01 09:00:00 -1.1  0.0  97.9    55  SUN\n",
              "1  2017-01-01 10:00:00 -0.5  0.0  97.7    78  SUN\n",
              "2  2017-01-01 11:00:00  0.6  0.0  97.9   171  SUN\n",
              "3  2017-01-01 12:00:00  2.2  0.0  96.3   203  SUN\n",
              "4  2017-01-01 13:00:00  5.5  0.0  73.2   398  SUN"
            ]
          },
          "metadata": {
            "tags": []
          },
          "execution_count": 4
        }
      ]
    },
    {
      "cell_type": "code",
      "metadata": {
        "id": "NUTCVZvcUsS_",
        "colab_type": "code",
        "outputId": "220c73b0-dd33-47a0-a2c4-76ba6875baec",
        "colab": {
          "base_uri": "https://localhost:8080/",
          "height": 198
        }
      },
      "source": [
        "## date 칼럼으로 요일 칼럼 holiday 만들어줌\n",
        "list2 = []\n",
        "for i in train['days']:\n",
        "  if i == 'SUN':\n",
        "    list2.append(1)\n",
        "  elif i == 'SAT':\n",
        "    list2.append(1)\n",
        "  else:\n",
        "    list2.append(0)\n",
        "train[\"holiday\"] = list2\n",
        "train.head()"
      ],
      "execution_count": 0,
      "outputs": [
        {
          "output_type": "execute_result",
          "data": {
            "text/html": [
              "<div>\n",
              "<style scoped>\n",
              "    .dataframe tbody tr th:only-of-type {\n",
              "        vertical-align: middle;\n",
              "    }\n",
              "\n",
              "    .dataframe tbody tr th {\n",
              "        vertical-align: top;\n",
              "    }\n",
              "\n",
              "    .dataframe thead th {\n",
              "        text-align: right;\n",
              "    }\n",
              "</style>\n",
              "<table border=\"1\" class=\"dataframe\">\n",
              "  <thead>\n",
              "    <tr style=\"text-align: right;\">\n",
              "      <th></th>\n",
              "      <th>date</th>\n",
              "      <th>c</th>\n",
              "      <th>mm</th>\n",
              "      <th>h</th>\n",
              "      <th>loan</th>\n",
              "      <th>days</th>\n",
              "      <th>holiday</th>\n",
              "    </tr>\n",
              "  </thead>\n",
              "  <tbody>\n",
              "    <tr>\n",
              "      <th>0</th>\n",
              "      <td>2017-01-01 09:00:00</td>\n",
              "      <td>-1.1</td>\n",
              "      <td>0.0</td>\n",
              "      <td>97.9</td>\n",
              "      <td>55</td>\n",
              "      <td>SUN</td>\n",
              "      <td>1</td>\n",
              "    </tr>\n",
              "    <tr>\n",
              "      <th>1</th>\n",
              "      <td>2017-01-01 10:00:00</td>\n",
              "      <td>-0.5</td>\n",
              "      <td>0.0</td>\n",
              "      <td>97.7</td>\n",
              "      <td>78</td>\n",
              "      <td>SUN</td>\n",
              "      <td>1</td>\n",
              "    </tr>\n",
              "    <tr>\n",
              "      <th>2</th>\n",
              "      <td>2017-01-01 11:00:00</td>\n",
              "      <td>0.6</td>\n",
              "      <td>0.0</td>\n",
              "      <td>97.9</td>\n",
              "      <td>171</td>\n",
              "      <td>SUN</td>\n",
              "      <td>1</td>\n",
              "    </tr>\n",
              "    <tr>\n",
              "      <th>3</th>\n",
              "      <td>2017-01-01 12:00:00</td>\n",
              "      <td>2.2</td>\n",
              "      <td>0.0</td>\n",
              "      <td>96.3</td>\n",
              "      <td>203</td>\n",
              "      <td>SUN</td>\n",
              "      <td>1</td>\n",
              "    </tr>\n",
              "    <tr>\n",
              "      <th>4</th>\n",
              "      <td>2017-01-01 13:00:00</td>\n",
              "      <td>5.5</td>\n",
              "      <td>0.0</td>\n",
              "      <td>73.2</td>\n",
              "      <td>398</td>\n",
              "      <td>SUN</td>\n",
              "      <td>1</td>\n",
              "    </tr>\n",
              "  </tbody>\n",
              "</table>\n",
              "</div>"
            ],
            "text/plain": [
              "                  date    c   mm     h  loan days  holiday\n",
              "0  2017-01-01 09:00:00 -1.1  0.0  97.9    55  SUN        1\n",
              "1  2017-01-01 10:00:00 -0.5  0.0  97.7    78  SUN        1\n",
              "2  2017-01-01 11:00:00  0.6  0.0  97.9   171  SUN        1\n",
              "3  2017-01-01 12:00:00  2.2  0.0  96.3   203  SUN        1\n",
              "4  2017-01-01 13:00:00  5.5  0.0  73.2   398  SUN        1"
            ]
          },
          "metadata": {
            "tags": []
          },
          "execution_count": 5
        }
      ]
    },
    {
      "cell_type": "code",
      "metadata": {
        "id": "yOVQI_paUytn",
        "colab_type": "code",
        "outputId": "a537b3e7-999b-46b2-d75b-bd4c710036ed",
        "colab": {
          "base_uri": "https://localhost:8080/",
          "height": 198
        }
      },
      "source": [
        "## 일하는 날 칼럼 만들어줌\n",
        "list3 = []\n",
        "for i in train['holiday']:\n",
        "  if i == 0:\n",
        "    list3.append(1)\n",
        "  else:\n",
        "    list3.append(0)\n",
        "\n",
        "train['workingday'] = list3\n",
        "train.head()"
      ],
      "execution_count": 0,
      "outputs": [
        {
          "output_type": "execute_result",
          "data": {
            "text/html": [
              "<div>\n",
              "<style scoped>\n",
              "    .dataframe tbody tr th:only-of-type {\n",
              "        vertical-align: middle;\n",
              "    }\n",
              "\n",
              "    .dataframe tbody tr th {\n",
              "        vertical-align: top;\n",
              "    }\n",
              "\n",
              "    .dataframe thead th {\n",
              "        text-align: right;\n",
              "    }\n",
              "</style>\n",
              "<table border=\"1\" class=\"dataframe\">\n",
              "  <thead>\n",
              "    <tr style=\"text-align: right;\">\n",
              "      <th></th>\n",
              "      <th>date</th>\n",
              "      <th>c</th>\n",
              "      <th>mm</th>\n",
              "      <th>h</th>\n",
              "      <th>loan</th>\n",
              "      <th>days</th>\n",
              "      <th>holiday</th>\n",
              "      <th>workingday</th>\n",
              "    </tr>\n",
              "  </thead>\n",
              "  <tbody>\n",
              "    <tr>\n",
              "      <th>0</th>\n",
              "      <td>2017-01-01 09:00:00</td>\n",
              "      <td>-1.1</td>\n",
              "      <td>0.0</td>\n",
              "      <td>97.9</td>\n",
              "      <td>55</td>\n",
              "      <td>SUN</td>\n",
              "      <td>1</td>\n",
              "      <td>0</td>\n",
              "    </tr>\n",
              "    <tr>\n",
              "      <th>1</th>\n",
              "      <td>2017-01-01 10:00:00</td>\n",
              "      <td>-0.5</td>\n",
              "      <td>0.0</td>\n",
              "      <td>97.7</td>\n",
              "      <td>78</td>\n",
              "      <td>SUN</td>\n",
              "      <td>1</td>\n",
              "      <td>0</td>\n",
              "    </tr>\n",
              "    <tr>\n",
              "      <th>2</th>\n",
              "      <td>2017-01-01 11:00:00</td>\n",
              "      <td>0.6</td>\n",
              "      <td>0.0</td>\n",
              "      <td>97.9</td>\n",
              "      <td>171</td>\n",
              "      <td>SUN</td>\n",
              "      <td>1</td>\n",
              "      <td>0</td>\n",
              "    </tr>\n",
              "    <tr>\n",
              "      <th>3</th>\n",
              "      <td>2017-01-01 12:00:00</td>\n",
              "      <td>2.2</td>\n",
              "      <td>0.0</td>\n",
              "      <td>96.3</td>\n",
              "      <td>203</td>\n",
              "      <td>SUN</td>\n",
              "      <td>1</td>\n",
              "      <td>0</td>\n",
              "    </tr>\n",
              "    <tr>\n",
              "      <th>4</th>\n",
              "      <td>2017-01-01 13:00:00</td>\n",
              "      <td>5.5</td>\n",
              "      <td>0.0</td>\n",
              "      <td>73.2</td>\n",
              "      <td>398</td>\n",
              "      <td>SUN</td>\n",
              "      <td>1</td>\n",
              "      <td>0</td>\n",
              "    </tr>\n",
              "  </tbody>\n",
              "</table>\n",
              "</div>"
            ],
            "text/plain": [
              "                  date    c   mm     h  loan days  holiday  workingday\n",
              "0  2017-01-01 09:00:00 -1.1  0.0  97.9    55  SUN        1           0\n",
              "1  2017-01-01 10:00:00 -0.5  0.0  97.7    78  SUN        1           0\n",
              "2  2017-01-01 11:00:00  0.6  0.0  97.9   171  SUN        1           0\n",
              "3  2017-01-01 12:00:00  2.2  0.0  96.3   203  SUN        1           0\n",
              "4  2017-01-01 13:00:00  5.5  0.0  73.2   398  SUN        1           0"
            ]
          },
          "metadata": {
            "tags": []
          },
          "execution_count": 6
        }
      ]
    },
    {
      "cell_type": "code",
      "metadata": {
        "id": "0D-83VHlU3xz",
        "colab_type": "code",
        "colab": {}
      },
      "source": [
        "train['date']=train['date'].astype(str)"
      ],
      "execution_count": 0,
      "outputs": []
    },
    {
      "cell_type": "code",
      "metadata": {
        "id": "KnEF6S-nU540",
        "colab_type": "code",
        "outputId": "c5424f65-f898-4934-dd75-fdcb1587476b",
        "colab": {
          "base_uri": "https://localhost:8080/",
          "height": 198
        }
      },
      "source": [
        "###   계절 컬럼 만들어줌\n",
        "list4 = []\n",
        "\n",
        "for i in train['date']:\n",
        "  b = i[5:7]\n",
        "  if b == '01' :\n",
        "    list4.append(1)\n",
        "  elif b == '02' :\n",
        "    list4.append(1)\n",
        "  elif b == '03' :\n",
        "    list4.append(1)\n",
        "  elif b == '04' :\n",
        "    list4.append(2)\n",
        "  elif b == '05' :\n",
        "    list4.append(2)            \n",
        "  elif b == '06' :\n",
        "    list4.append(2)\n",
        "  elif b == '07' :\n",
        "    list4.append(3)\n",
        "  elif b == '08' :\n",
        "    list4.append(3)\n",
        "  elif b == '09' :\n",
        "    list4.append(3)\n",
        "  elif b == '10' :\n",
        "    list4.append(4)\n",
        "  elif b == '11' :\n",
        "    list4.append(4)  \n",
        "  elif b == '12' :\n",
        "    list4.append(4)\n",
        "    \n",
        "train['season'] = list4\n",
        "train.head()"
      ],
      "execution_count": 0,
      "outputs": [
        {
          "output_type": "execute_result",
          "data": {
            "text/html": [
              "<div>\n",
              "<style scoped>\n",
              "    .dataframe tbody tr th:only-of-type {\n",
              "        vertical-align: middle;\n",
              "    }\n",
              "\n",
              "    .dataframe tbody tr th {\n",
              "        vertical-align: top;\n",
              "    }\n",
              "\n",
              "    .dataframe thead th {\n",
              "        text-align: right;\n",
              "    }\n",
              "</style>\n",
              "<table border=\"1\" class=\"dataframe\">\n",
              "  <thead>\n",
              "    <tr style=\"text-align: right;\">\n",
              "      <th></th>\n",
              "      <th>date</th>\n",
              "      <th>c</th>\n",
              "      <th>mm</th>\n",
              "      <th>h</th>\n",
              "      <th>loan</th>\n",
              "      <th>days</th>\n",
              "      <th>holiday</th>\n",
              "      <th>workingday</th>\n",
              "      <th>season</th>\n",
              "    </tr>\n",
              "  </thead>\n",
              "  <tbody>\n",
              "    <tr>\n",
              "      <th>0</th>\n",
              "      <td>2017-01-01 09:00:00</td>\n",
              "      <td>-1.1</td>\n",
              "      <td>0.0</td>\n",
              "      <td>97.9</td>\n",
              "      <td>55</td>\n",
              "      <td>SUN</td>\n",
              "      <td>1</td>\n",
              "      <td>0</td>\n",
              "      <td>1</td>\n",
              "    </tr>\n",
              "    <tr>\n",
              "      <th>1</th>\n",
              "      <td>2017-01-01 10:00:00</td>\n",
              "      <td>-0.5</td>\n",
              "      <td>0.0</td>\n",
              "      <td>97.7</td>\n",
              "      <td>78</td>\n",
              "      <td>SUN</td>\n",
              "      <td>1</td>\n",
              "      <td>0</td>\n",
              "      <td>1</td>\n",
              "    </tr>\n",
              "    <tr>\n",
              "      <th>2</th>\n",
              "      <td>2017-01-01 11:00:00</td>\n",
              "      <td>0.6</td>\n",
              "      <td>0.0</td>\n",
              "      <td>97.9</td>\n",
              "      <td>171</td>\n",
              "      <td>SUN</td>\n",
              "      <td>1</td>\n",
              "      <td>0</td>\n",
              "      <td>1</td>\n",
              "    </tr>\n",
              "    <tr>\n",
              "      <th>3</th>\n",
              "      <td>2017-01-01 12:00:00</td>\n",
              "      <td>2.2</td>\n",
              "      <td>0.0</td>\n",
              "      <td>96.3</td>\n",
              "      <td>203</td>\n",
              "      <td>SUN</td>\n",
              "      <td>1</td>\n",
              "      <td>0</td>\n",
              "      <td>1</td>\n",
              "    </tr>\n",
              "    <tr>\n",
              "      <th>4</th>\n",
              "      <td>2017-01-01 13:00:00</td>\n",
              "      <td>5.5</td>\n",
              "      <td>0.0</td>\n",
              "      <td>73.2</td>\n",
              "      <td>398</td>\n",
              "      <td>SUN</td>\n",
              "      <td>1</td>\n",
              "      <td>0</td>\n",
              "      <td>1</td>\n",
              "    </tr>\n",
              "  </tbody>\n",
              "</table>\n",
              "</div>"
            ],
            "text/plain": [
              "                  date    c   mm     h  loan days  holiday  workingday  season\n",
              "0  2017-01-01 09:00:00 -1.1  0.0  97.9    55  SUN        1           0       1\n",
              "1  2017-01-01 10:00:00 -0.5  0.0  97.7    78  SUN        1           0       1\n",
              "2  2017-01-01 11:00:00  0.6  0.0  97.9   171  SUN        1           0       1\n",
              "3  2017-01-01 12:00:00  2.2  0.0  96.3   203  SUN        1           0       1\n",
              "4  2017-01-01 13:00:00  5.5  0.0  73.2   398  SUN        1           0       1"
            ]
          },
          "metadata": {
            "tags": []
          },
          "execution_count": 8
        }
      ]
    },
    {
      "cell_type": "code",
      "metadata": {
        "id": "9jPqPoxGMDvP",
        "colab_type": "code",
        "outputId": "38c33ba9-7cb4-4333-f416-0cadba02dc90",
        "colab": {
          "base_uri": "https://localhost:8080/",
          "height": 272
        }
      },
      "source": [
        "###   데이터 속성 확인\n",
        "train.info()"
      ],
      "execution_count": 0,
      "outputs": [
        {
          "output_type": "stream",
          "text": [
            "<class 'pandas.core.frame.DataFrame'>\n",
            "RangeIndex: 10942 entries, 0 to 10941\n",
            "Data columns (total 9 columns):\n",
            "date          10942 non-null object\n",
            "c             10942 non-null float64\n",
            "mm            10942 non-null float64\n",
            "h             10942 non-null float64\n",
            "loan          10942 non-null int64\n",
            "days          10942 non-null object\n",
            "holiday       10942 non-null int64\n",
            "workingday    10942 non-null int64\n",
            "season        10942 non-null int64\n",
            "dtypes: float64(3), int64(4), object(2)\n",
            "memory usage: 769.4+ KB\n"
          ],
          "name": "stdout"
        }
      ]
    },
    {
      "cell_type": "code",
      "metadata": {
        "id": "FdvTM1o6VC4q",
        "colab_type": "code",
        "colab": {}
      },
      "source": [
        "# date 다시 데이트타임으로 변환\n",
        "train['date'] = pd.to_datetime(train['date'], errors='coerce')"
      ],
      "execution_count": 0,
      "outputs": []
    },
    {
      "cell_type": "code",
      "metadata": {
        "id": "1HfP1IuAVNGn",
        "colab_type": "code",
        "outputId": "fe85b58d-9988-4d6d-ae19-26ba4615a3ba",
        "colab": {
          "base_uri": "https://localhost:8080/",
          "height": 35
        }
      },
      "source": [
        "### 년, 월, 일, 시, 분, 초 칼럼 따로 만들어줌\n",
        "train[\"year\"] = train[\"date\"].dt.year\n",
        "train[\"month\"] = train[\"date\"].dt.month\n",
        "train[\"day\"] = train[\"date\"].dt.day\n",
        "train[\"hour\"] = train[\"date\"].dt.hour\n",
        "train[\"minute\"] = train[\"date\"].dt.minute\n",
        "train[\"second\"] = train[\"date\"].dt.second\n",
        "train.shape"
      ],
      "execution_count": 0,
      "outputs": [
        {
          "output_type": "execute_result",
          "data": {
            "text/plain": [
              "(10942, 15)"
            ]
          },
          "metadata": {
            "tags": []
          },
          "execution_count": 11
        }
      ]
    },
    {
      "cell_type": "markdown",
      "metadata": {
        "id": "jVwnUSM0QwbX",
        "colab_type": "text"
      },
      "source": [
        "# 테스트 사이즈 30% 사용"
      ]
    },
    {
      "cell_type": "code",
      "metadata": {
        "id": "1NbrP1GfJxrx",
        "colab_type": "code",
        "colab": {}
      },
      "source": [
        "test = train[int(len(train) * 0.3):]"
      ],
      "execution_count": 0,
      "outputs": []
    },
    {
      "cell_type": "code",
      "metadata": {
        "id": "RGC2egg8Nx6t",
        "colab_type": "code",
        "outputId": "5fa74e99-5c6c-4e73-8af7-4b02d41a7f9f",
        "colab": {
          "base_uri": "https://localhost:8080/",
          "height": 198
        }
      },
      "source": [
        "test.head()"
      ],
      "execution_count": 0,
      "outputs": [
        {
          "output_type": "execute_result",
          "data": {
            "text/html": [
              "<div>\n",
              "<style scoped>\n",
              "    .dataframe tbody tr th:only-of-type {\n",
              "        vertical-align: middle;\n",
              "    }\n",
              "\n",
              "    .dataframe tbody tr th {\n",
              "        vertical-align: top;\n",
              "    }\n",
              "\n",
              "    .dataframe thead th {\n",
              "        text-align: right;\n",
              "    }\n",
              "</style>\n",
              "<table border=\"1\" class=\"dataframe\">\n",
              "  <thead>\n",
              "    <tr style=\"text-align: right;\">\n",
              "      <th></th>\n",
              "      <th>date</th>\n",
              "      <th>c</th>\n",
              "      <th>mm</th>\n",
              "      <th>h</th>\n",
              "      <th>loan</th>\n",
              "      <th>days</th>\n",
              "      <th>holiday</th>\n",
              "      <th>workingday</th>\n",
              "      <th>season</th>\n",
              "      <th>year</th>\n",
              "      <th>month</th>\n",
              "      <th>day</th>\n",
              "      <th>hour</th>\n",
              "      <th>minute</th>\n",
              "      <th>second</th>\n",
              "    </tr>\n",
              "  </thead>\n",
              "  <tbody>\n",
              "    <tr>\n",
              "      <th>3282</th>\n",
              "      <td>2017-10-12 12:00:00</td>\n",
              "      <td>13.5</td>\n",
              "      <td>0.0</td>\n",
              "      <td>82.5</td>\n",
              "      <td>278</td>\n",
              "      <td>THU</td>\n",
              "      <td>0</td>\n",
              "      <td>1</td>\n",
              "      <td>4</td>\n",
              "      <td>2017</td>\n",
              "      <td>10</td>\n",
              "      <td>12</td>\n",
              "      <td>12</td>\n",
              "      <td>0</td>\n",
              "      <td>0</td>\n",
              "    </tr>\n",
              "    <tr>\n",
              "      <th>3283</th>\n",
              "      <td>2017-10-12 13:00:00</td>\n",
              "      <td>13.2</td>\n",
              "      <td>0.0</td>\n",
              "      <td>88.8</td>\n",
              "      <td>194</td>\n",
              "      <td>THU</td>\n",
              "      <td>0</td>\n",
              "      <td>1</td>\n",
              "      <td>4</td>\n",
              "      <td>2017</td>\n",
              "      <td>10</td>\n",
              "      <td>12</td>\n",
              "      <td>13</td>\n",
              "      <td>0</td>\n",
              "      <td>0</td>\n",
              "    </tr>\n",
              "    <tr>\n",
              "      <th>3284</th>\n",
              "      <td>2017-10-12 14:00:00</td>\n",
              "      <td>13.3</td>\n",
              "      <td>0.5</td>\n",
              "      <td>91.7</td>\n",
              "      <td>272</td>\n",
              "      <td>THU</td>\n",
              "      <td>0</td>\n",
              "      <td>1</td>\n",
              "      <td>4</td>\n",
              "      <td>2017</td>\n",
              "      <td>10</td>\n",
              "      <td>12</td>\n",
              "      <td>14</td>\n",
              "      <td>0</td>\n",
              "      <td>0</td>\n",
              "    </tr>\n",
              "    <tr>\n",
              "      <th>3285</th>\n",
              "      <td>2017-10-12 15:00:00</td>\n",
              "      <td>13.3</td>\n",
              "      <td>0.0</td>\n",
              "      <td>87.0</td>\n",
              "      <td>227</td>\n",
              "      <td>THU</td>\n",
              "      <td>0</td>\n",
              "      <td>1</td>\n",
              "      <td>4</td>\n",
              "      <td>2017</td>\n",
              "      <td>10</td>\n",
              "      <td>12</td>\n",
              "      <td>15</td>\n",
              "      <td>0</td>\n",
              "      <td>0</td>\n",
              "    </tr>\n",
              "    <tr>\n",
              "      <th>3286</th>\n",
              "      <td>2017-10-12 16:00:00</td>\n",
              "      <td>13.3</td>\n",
              "      <td>0.0</td>\n",
              "      <td>88.8</td>\n",
              "      <td>259</td>\n",
              "      <td>THU</td>\n",
              "      <td>0</td>\n",
              "      <td>1</td>\n",
              "      <td>4</td>\n",
              "      <td>2017</td>\n",
              "      <td>10</td>\n",
              "      <td>12</td>\n",
              "      <td>16</td>\n",
              "      <td>0</td>\n",
              "      <td>0</td>\n",
              "    </tr>\n",
              "  </tbody>\n",
              "</table>\n",
              "</div>"
            ],
            "text/plain": [
              "                    date     c   mm     h  ...  day hour  minute  second\n",
              "3282 2017-10-12 12:00:00  13.5  0.0  82.5  ...   12   12       0       0\n",
              "3283 2017-10-12 13:00:00  13.2  0.0  88.8  ...   12   13       0       0\n",
              "3284 2017-10-12 14:00:00  13.3  0.5  91.7  ...   12   14       0       0\n",
              "3285 2017-10-12 15:00:00  13.3  0.0  87.0  ...   12   15       0       0\n",
              "3286 2017-10-12 16:00:00  13.3  0.0  88.8  ...   12   16       0       0\n",
              "\n",
              "[5 rows x 15 columns]"
            ]
          },
          "metadata": {
            "tags": []
          },
          "execution_count": 13
        }
      ]
    },
    {
      "cell_type": "markdown",
      "metadata": {
        "id": "9fVYrNGrPZP4",
        "colab_type": "text"
      },
      "source": [
        "# Feature Engineering"
      ]
    },
    {
      "cell_type": "code",
      "metadata": {
        "id": "32OK-S9KPeQU",
        "colab_type": "code",
        "outputId": "f7ab649c-5643-4d16-91ee-434b318a76de",
        "colab": {
          "base_uri": "https://localhost:8080/",
          "height": 35
        }
      },
      "source": [
        "train[\"year\"] = train[\"date\"].dt.year\n",
        "train[\"month\"] = train[\"date\"].dt.month\n",
        "train[\"day\"] = train[\"date\"].dt.day\n",
        "train[\"hour\"] = train[\"date\"].dt.hour\n",
        "train[\"minute\"] = train[\"date\"].dt.minute\n",
        "train[\"second\"] = train[\"date\"].dt.second\n",
        "train[\"dayofweek\"] = train[\"date\"].dt.dayofweek\n",
        "train.shape"
      ],
      "execution_count": 0,
      "outputs": [
        {
          "output_type": "execute_result",
          "data": {
            "text/plain": [
              "(10942, 16)"
            ]
          },
          "metadata": {
            "tags": []
          },
          "execution_count": 14
        }
      ]
    },
    {
      "cell_type": "code",
      "metadata": {
        "id": "qJzfZ3tpQqV-",
        "colab_type": "code",
        "outputId": "008b5758-96cf-4062-aa99-5e0c3909cf01",
        "colab": {
          "base_uri": "https://localhost:8080/",
          "height": 35
        }
      },
      "source": [
        "test[\"year\"] = test[\"date\"].dt.year\n",
        "test[\"month\"] = test[\"date\"].dt.month\n",
        "test[\"day\"] = test[\"date\"].dt.day\n",
        "test[\"hour\"] = test[\"date\"].dt.hour\n",
        "test[\"minute\"] = test[\"date\"].dt.minute\n",
        "test[\"second\"] = test[\"date\"].dt.second\n",
        "test[\"dayofweek\"] = test[\"date\"].dt.dayofweek\n",
        "test.shape"
      ],
      "execution_count": 0,
      "outputs": [
        {
          "output_type": "execute_result",
          "data": {
            "text/plain": [
              "(7660, 16)"
            ]
          },
          "metadata": {
            "tags": []
          },
          "execution_count": 15
        }
      ]
    },
    {
      "cell_type": "code",
      "metadata": {
        "id": "cY6vvVhFQ6fF",
        "colab_type": "code",
        "outputId": "8bd50059-acdb-412d-9a05-e87030e9471a",
        "colab": {
          "base_uri": "https://localhost:8080/",
          "height": 649
        }
      },
      "source": [
        "# 강수량 0 값이 가장 많다. => 잘못 기록된 데이터를 고쳐 줄 필요가 있음\n",
        "fig, axes = plt.subplots(nrows=2)\n",
        "fig.set_size_inches(18,10)\n",
        "\n",
        "plt.sca(axes[0])\n",
        "plt.xticks(rotation=30, ha='right')\n",
        "axes[0].set(ylabel='loan',title=\"train mm\")\n",
        "sns.countplot(data=train, x=\"mm\", ax=axes[0])\n",
        "\n",
        "plt.sca(axes[1])\n",
        "plt.xticks(rotation=30, ha='right')\n",
        "axes[1].set(ylabel='loan',title=\"test mm\")\n",
        "sns.countplot(data=test, x=\"mm\", ax=axes[1])"
      ],
      "execution_count": 0,
      "outputs": [
        {
          "output_type": "execute_result",
          "data": {
            "text/plain": [
              "<matplotlib.axes._subplots.AxesSubplot at 0x7f3846329588>"
            ]
          },
          "metadata": {
            "tags": []
          },
          "execution_count": 16
        },
        {
          "output_type": "display_data",
          "data": {
            "image/png": "[encoded data removed]",
            "text/plain": [
              "<Figure size 1296x720 with 2 Axes>"
            ]
          },
          "metadata": {
            "tags": []
          }
        }
      ]
    },
    {
      "cell_type": "code",
      "metadata": {
        "id": "DjrsM7sBRP9s",
        "colab_type": "code",
        "colab": {}
      },
      "source": [
        "# 강수량의 0값에 특정 값을 넣어준다.\n",
        "# 평균을 구해 일괄적으로 넣어줄 수도 있지만, 예측의 정확도를 높이는 데 도움이 될것 같진 않다.\n",
        "# train.loc[train[\"mm\"] == 0, \"mm\"] = train[\"mm\"].mean()\n",
        "# test.loc[train[\"mm\"] == 0, \"mm\"] = train[\"mm\"].mean()"
      ],
      "execution_count": 0,
      "outputs": []
    },
    {
      "cell_type": "code",
      "metadata": {
        "id": "vHiLOi6cRifm",
        "colab_type": "code",
        "outputId": "a031435c-bd35-42e0-8d2e-7f06092dfb78",
        "colab": {
          "base_uri": "https://localhost:8080/",
          "height": 54
        }
      },
      "source": [
        "# # 강수량이 0인것과 아닌 것의 세트를 나누어 준다.\n",
        "trainmm0 = train.loc[train['mm'] == 0]\n",
        "trainmmNot0 = train.loc[train['mm'] != 0]\n",
        "print(trainmm0.shape)\n",
        "print(trainmmNot0.shape)"
      ],
      "execution_count": 0,
      "outputs": [
        {
          "output_type": "stream",
          "text": [
            "(10475, 16)\n",
            "(467, 16)\n"
          ],
          "name": "stdout"
        }
      ]
    },
    {
      "cell_type": "code",
      "metadata": {
        "id": "Ce1DXaBDR-Gd",
        "colab_type": "code",
        "colab": {}
      },
      "source": [
        "# 그래서 머신러닝으로 예측을 해서 풍속을 넣어주도록 한다.\n",
        "from sklearn.ensemble import RandomForestClassifier\n",
        "\n",
        "def predict_mm(data):\n",
        "    \n",
        "    # 강수량이 0인것과 아닌 것을 나누어 준다.\n",
        "    datamm0 = data.loc[data['mm'] == 0]\n",
        "    datammNot0 = data.loc[data['mm'] != 0]\n",
        "    \n",
        "    # 강수량을 예측할 피처를 선택한다.\n",
        "    wCol = [\"season\", \"h\", \"month\", \"year\", \"c\"]\n",
        "\n",
        "    # 강수량이 0이 아닌 데이터들의 타입을 스트링으로 바꿔준다.\n",
        "    datammNot0[\"mm\"] = datammNot0[\"mm\"].astype(\"str\")\n",
        "\n",
        "    # 랜덤포레스트 분류기를 사용한다.\n",
        "    rfModel_mm = RandomForestClassifier()\n",
        "\n",
        "    # wCol에 있는 피처의 값을 바탕으로 강수량을 학습시킨다.\n",
        "    rfModel_mm.fit(datammNot0[wCol], datammNot0[\"mm\"])\n",
        "\n",
        "    # 학습한 값을 바탕으로 강수량이 0으로 기록 된 데이터의 강수량을 예측한다.\n",
        "    mm0Values = rfModel_mm.predict(X = datamm0[wCol])\n",
        "\n",
        "    # 값을 다 예측 후 비교해 보기 위해\n",
        "    # 예측한 값을 넣어 줄 데이터 프레임을 새로 만든다.\n",
        "    predictmm0 = datamm0\n",
        "    predictmmNot0 = datammNot0\n",
        "\n",
        "    # 값이 0으로 기록 된 강수량에 대해 예측한 값을 넣어준다.\n",
        "    predictmm0[\"mm\"] = mm0Values\n",
        "\n",
        "    # datammNot0 0이 아닌 강수량이 있는 데이터프레임에 예측한 값이 있는 데이터프레임을 합쳐준다.\n",
        "    data = predictmmNot0.append(predictmm0)\n",
        "\n",
        "    # 풍속의 데이터타입을 float으로 지정해 준다.\n",
        "    data[\"mm\"] = data[\"mm\"].astype(\"float\")\n",
        "\n",
        "    data.reset_index(inplace=True)\n",
        "    data.drop('index', inplace=True, axis=1)\n",
        "    \n",
        "    return data"
      ],
      "execution_count": 0,
      "outputs": []
    },
    {
      "cell_type": "code",
      "metadata": {
        "id": "JKeqBxEHXHbe",
        "colab_type": "code",
        "outputId": "be93d603-c515-4e19-e8be-2a83a2307e7e",
        "colab": {
          "base_uri": "https://localhost:8080/",
          "height": 433
        }
      },
      "source": [
        "# 0값을 조정한다.\n",
        "train = predict_mm(train)\n",
        "# test = predict_mm(test)\n",
        "\n",
        "# mm 의 0값을 조정한 데이터를 시각화\n",
        "fig, ax1 = plt.subplots()\n",
        "fig.set_size_inches(18,6)\n",
        "\n",
        "plt.sca(ax1)\n",
        "plt.xticks(rotation=30, ha='right')\n",
        "ax1.set(ylabel='loan',title=\"train mm\")\n",
        "sns.countplot(data=train, x=\"mm\", ax=ax1)"
      ],
      "execution_count": 0,
      "outputs": [
        {
          "output_type": "execute_result",
          "data": {
            "text/plain": [
              "<matplotlib.axes._subplots.AxesSubplot at 0x7f38461f91d0>"
            ]
          },
          "metadata": {
            "tags": []
          },
          "execution_count": 20
        },
        {
          "output_type": "display_data",
          "data": {
            "image/png": "[encoded data removed]",
            "text/plain": [
              "<Figure size 1296x432 with 1 Axes>"
            ]
          },
          "metadata": {
            "tags": []
          }
        }
      ]
    },
    {
      "cell_type": "markdown",
      "metadata": {
        "id": "pHv-9O-rXs_y",
        "colab_type": "text"
      },
      "source": [
        "# Feature Selection\n",
        "\n",
        "*   신호와 잡음을 구분해야 한다.\n",
        "*   피처가 많다고 해서 무조건 좋은 성능을 내지 않는다.\n",
        "*   피처를 하나씩 추가하고 변경해 가면서 성능이 좋지 않은 피처는 제거하도록 한다.\n",
        "\n"
      ]
    },
    {
      "cell_type": "code",
      "metadata": {
        "id": "TaR69cZaXHYa",
        "colab_type": "code",
        "colab": {}
      },
      "source": [
        "# 연속형 feature와 범주형 feature \n",
        "# 연속형 feature = [\"c\",\"mm\",\"h\"]\n",
        "# 범주형 feature의 type을 category로 변경 해 준다.\n",
        "categorical_feature_names = [\"season\",\"holiday\",\"workingday\",\n",
        "                             \"dayofweek\",\"month\",\"year\",\"hour\"]\n",
        "\n",
        "for var in categorical_feature_names:\n",
        "    train[var] = train[var].astype(\"category\")\n",
        "    test[var] = test[var].astype(\"category\")"
      ],
      "execution_count": 0,
      "outputs": []
    },
    {
      "cell_type": "code",
      "metadata": {
        "id": "FwLcZTCgXHVv",
        "colab_type": "code",
        "outputId": "d7d59da2-2b10-437d-e2cb-9fdcab0efe93",
        "colab": {
          "base_uri": "https://localhost:8080/",
          "height": 35
        }
      },
      "source": [
        "feature_names = [\"season\", \"c\", \"h\", \"year\", \"hour\",\n",
        "                 \"dayofweek\", \"holiday\", \"workingday\"]\n",
        "\n",
        "feature_names"
      ],
      "execution_count": 0,
      "outputs": [
        {
          "output_type": "execute_result",
          "data": {
            "text/plain": [
              "['season', 'c', 'h', 'year', 'hour', 'dayofweek', 'holiday', 'workingday']"
            ]
          },
          "metadata": {
            "tags": []
          },
          "execution_count": 22
        }
      ]
    },
    {
      "cell_type": "code",
      "metadata": {
        "id": "r2BgFZgvXHTi",
        "colab_type": "code",
        "outputId": "ce74e9f0-a573-476e-c2f5-e07c8c3a4241",
        "colab": {
          "base_uri": "https://localhost:8080/",
          "height": 216
        }
      },
      "source": [
        "X_train = train[feature_names]\n",
        "\n",
        "print(X_train.shape)\n",
        "X_train.head()"
      ],
      "execution_count": 0,
      "outputs": [
        {
          "output_type": "stream",
          "text": [
            "(10942, 8)\n"
          ],
          "name": "stdout"
        },
        {
          "output_type": "execute_result",
          "data": {
            "text/html": [
              "<div>\n",
              "<style scoped>\n",
              "    .dataframe tbody tr th:only-of-type {\n",
              "        vertical-align: middle;\n",
              "    }\n",
              "\n",
              "    .dataframe tbody tr th {\n",
              "        vertical-align: top;\n",
              "    }\n",
              "\n",
              "    .dataframe thead th {\n",
              "        text-align: right;\n",
              "    }\n",
              "</style>\n",
              "<table border=\"1\" class=\"dataframe\">\n",
              "  <thead>\n",
              "    <tr style=\"text-align: right;\">\n",
              "      <th></th>\n",
              "      <th>season</th>\n",
              "      <th>c</th>\n",
              "      <th>h</th>\n",
              "      <th>year</th>\n",
              "      <th>hour</th>\n",
              "      <th>dayofweek</th>\n",
              "      <th>holiday</th>\n",
              "      <th>workingday</th>\n",
              "    </tr>\n",
              "  </thead>\n",
              "  <tbody>\n",
              "    <tr>\n",
              "      <th>0</th>\n",
              "      <td>1</td>\n",
              "      <td>1.6</td>\n",
              "      <td>96.7</td>\n",
              "      <td>2017</td>\n",
              "      <td>19</td>\n",
              "      <td>0</td>\n",
              "      <td>0</td>\n",
              "      <td>1</td>\n",
              "    </tr>\n",
              "    <tr>\n",
              "      <th>1</th>\n",
              "      <td>1</td>\n",
              "      <td>6.5</td>\n",
              "      <td>73.5</td>\n",
              "      <td>2017</td>\n",
              "      <td>18</td>\n",
              "      <td>6</td>\n",
              "      <td>1</td>\n",
              "      <td>0</td>\n",
              "    </tr>\n",
              "    <tr>\n",
              "      <th>2</th>\n",
              "      <td>1</td>\n",
              "      <td>0.9</td>\n",
              "      <td>95.7</td>\n",
              "      <td>2017</td>\n",
              "      <td>10</td>\n",
              "      <td>2</td>\n",
              "      <td>0</td>\n",
              "      <td>1</td>\n",
              "    </tr>\n",
              "    <tr>\n",
              "      <th>3</th>\n",
              "      <td>1</td>\n",
              "      <td>1.7</td>\n",
              "      <td>95.9</td>\n",
              "      <td>2017</td>\n",
              "      <td>11</td>\n",
              "      <td>2</td>\n",
              "      <td>0</td>\n",
              "      <td>1</td>\n",
              "    </tr>\n",
              "    <tr>\n",
              "      <th>4</th>\n",
              "      <td>1</td>\n",
              "      <td>2.3</td>\n",
              "      <td>97.7</td>\n",
              "      <td>2017</td>\n",
              "      <td>12</td>\n",
              "      <td>2</td>\n",
              "      <td>0</td>\n",
              "      <td>1</td>\n",
              "    </tr>\n",
              "  </tbody>\n",
              "</table>\n",
              "</div>"
            ],
            "text/plain": [
              "  season    c     h  year hour dayofweek holiday workingday\n",
              "0      1  1.6  96.7  2017   19         0       0          1\n",
              "1      1  6.5  73.5  2017   18         6       1          0\n",
              "2      1  0.9  95.7  2017   10         2       0          1\n",
              "3      1  1.7  95.9  2017   11         2       0          1\n",
              "4      1  2.3  97.7  2017   12         2       0          1"
            ]
          },
          "metadata": {
            "tags": []
          },
          "execution_count": 23
        }
      ]
    },
    {
      "cell_type": "code",
      "metadata": {
        "id": "lMRO50v_XHQY",
        "colab_type": "code",
        "outputId": "38009a95-310d-4709-b4b4-09865c03cd03",
        "colab": {
          "base_uri": "https://localhost:8080/",
          "height": 216
        }
      },
      "source": [
        "X_test = test[feature_names]\n",
        "\n",
        "print(X_test.shape)\n",
        "X_test.head()"
      ],
      "execution_count": 0,
      "outputs": [
        {
          "output_type": "stream",
          "text": [
            "(7660, 8)\n"
          ],
          "name": "stdout"
        },
        {
          "output_type": "execute_result",
          "data": {
            "text/html": [
              "<div>\n",
              "<style scoped>\n",
              "    .dataframe tbody tr th:only-of-type {\n",
              "        vertical-align: middle;\n",
              "    }\n",
              "\n",
              "    .dataframe tbody tr th {\n",
              "        vertical-align: top;\n",
              "    }\n",
              "\n",
              "    .dataframe thead th {\n",
              "        text-align: right;\n",
              "    }\n",
              "</style>\n",
              "<table border=\"1\" class=\"dataframe\">\n",
              "  <thead>\n",
              "    <tr style=\"text-align: right;\">\n",
              "      <th></th>\n",
              "      <th>season</th>\n",
              "      <th>c</th>\n",
              "      <th>h</th>\n",
              "      <th>year</th>\n",
              "      <th>hour</th>\n",
              "      <th>dayofweek</th>\n",
              "      <th>holiday</th>\n",
              "      <th>workingday</th>\n",
              "    </tr>\n",
              "  </thead>\n",
              "  <tbody>\n",
              "    <tr>\n",
              "      <th>3282</th>\n",
              "      <td>4</td>\n",
              "      <td>13.5</td>\n",
              "      <td>82.5</td>\n",
              "      <td>2017</td>\n",
              "      <td>12</td>\n",
              "      <td>3</td>\n",
              "      <td>0</td>\n",
              "      <td>1</td>\n",
              "    </tr>\n",
              "    <tr>\n",
              "      <th>3283</th>\n",
              "      <td>4</td>\n",
              "      <td>13.2</td>\n",
              "      <td>88.8</td>\n",
              "      <td>2017</td>\n",
              "      <td>13</td>\n",
              "      <td>3</td>\n",
              "      <td>0</td>\n",
              "      <td>1</td>\n",
              "    </tr>\n",
              "    <tr>\n",
              "      <th>3284</th>\n",
              "      <td>4</td>\n",
              "      <td>13.3</td>\n",
              "      <td>91.7</td>\n",
              "      <td>2017</td>\n",
              "      <td>14</td>\n",
              "      <td>3</td>\n",
              "      <td>0</td>\n",
              "      <td>1</td>\n",
              "    </tr>\n",
              "    <tr>\n",
              "      <th>3285</th>\n",
              "      <td>4</td>\n",
              "      <td>13.3</td>\n",
              "      <td>87.0</td>\n",
              "      <td>2017</td>\n",
              "      <td>15</td>\n",
              "      <td>3</td>\n",
              "      <td>0</td>\n",
              "      <td>1</td>\n",
              "    </tr>\n",
              "    <tr>\n",
              "      <th>3286</th>\n",
              "      <td>4</td>\n",
              "      <td>13.3</td>\n",
              "      <td>88.8</td>\n",
              "      <td>2017</td>\n",
              "      <td>16</td>\n",
              "      <td>3</td>\n",
              "      <td>0</td>\n",
              "      <td>1</td>\n",
              "    </tr>\n",
              "  </tbody>\n",
              "</table>\n",
              "</div>"
            ],
            "text/plain": [
              "     season     c     h  year hour dayofweek holiday workingday\n",
              "3282      4  13.5  82.5  2017   12         3       0          1\n",
              "3283      4  13.2  88.8  2017   13         3       0          1\n",
              "3284      4  13.3  91.7  2017   14         3       0          1\n",
              "3285      4  13.3  87.0  2017   15         3       0          1\n",
              "3286      4  13.3  88.8  2017   16         3       0          1"
            ]
          },
          "metadata": {
            "tags": []
          },
          "execution_count": 24
        }
      ]
    },
    {
      "cell_type": "code",
      "metadata": {
        "id": "Ckc8QrObXHN5",
        "colab_type": "code",
        "outputId": "a58f78bd-0ace-4b96-aa2b-ea2783d2c5ff",
        "colab": {
          "base_uri": "https://localhost:8080/",
          "height": 145
        }
      },
      "source": [
        "label_name = \"loan\"\n",
        "\n",
        "y_train = train[label_name]\n",
        "\n",
        "print(y_train.shape)\n",
        "y_train.head()"
      ],
      "execution_count": 0,
      "outputs": [
        {
          "output_type": "stream",
          "text": [
            "(10942,)\n"
          ],
          "name": "stdout"
        },
        {
          "output_type": "execute_result",
          "data": {
            "text/plain": [
              "0      1\n",
              "1     15\n",
              "2    134\n",
              "3    235\n",
              "4    276\n",
              "Name: loan, dtype: int64"
            ]
          },
          "metadata": {
            "tags": []
          },
          "execution_count": 25
        }
      ]
    },
    {
      "cell_type": "markdown",
      "metadata": {
        "id": "sgzEJXg3Yqtw",
        "colab_type": "text"
      },
      "source": [
        "# Score\n",
        "# RMSLE\n",
        "\n",
        "과대평가 된 항목보다는 과소평가 된 항목에 패널티를 준다.\n",
        "\n",
        "오차(Error)를 제곱(Square)해서 평균(Mean)한 값의 제곱근(Root) 으로 값이 작을 수록 정밀도가 높다.\n",
        "\n",
        "0에 가까운 값이 나올 수록 정밀도가 높은 값이다.\n",
        "\n",
        "Submissions are evaluated one the Root Mean Squared Logarithmic Error (RMSLE)\n",
        "\n",
        "![대체 텍스트](https://render.githubusercontent.com/render/math?math=%5Csqrt%7B%5Cfrac%7B1%7D%7Bn%7D%20%5Csum_%7Bi%3D1%7D%5En%20%28%5Clog%28p_i%20%2B%201%29%20-%20%5Clog%28a_i%2B1%29%29%5E2%20%7D&mode=display)\n",
        "\n",
        "\n",
        "\n",
        "*   ${n}$ is the number of hours in the test set\n",
        "*$p_i$ is your predicted count\n",
        "*$a_i$ is the actual count\n",
        "*$\\log(x)$ is the natural logarithm\n",
        "\n",
        "*좀 더 자세한 설명은 : RMSLE cost function\n",
        "\n",
        "*잔차(residual)에 대한 평균에 로그를 씌운 값이다. => 과대평가 된 항목보다 과소 평가 된 항목에 패널티를 주기위해\n",
        "\n",
        "*정답에 대한 오류를 숫자로 나타낸 값으로 값이 클 수록 오차가 크다는 의미다.\n",
        "값이 작을 수록 오류가 적다는 의미를 나타낸다.\n",
        "\n",
        "![대체 텍스트](https://camo.githubusercontent.com/215b635af41ad39e41f0396e1a0578042647e0f3/68747470733a2f2f75706c6f61642e77696b696d656469612e6f72672f77696b6970656469612f636f6d6d6f6e732f7468756d622f372f37332f4c6f6761726974686d732e7376672f34353670782d4c6f6761726974686d732e7376672e706e67)\n",
        "\n"
      ]
    },
    {
      "cell_type": "code",
      "metadata": {
        "id": "vu_ZIecdXHLM",
        "colab_type": "code",
        "outputId": "53379401-267c-4210-c9ca-eb32d98fc102",
        "colab": {
          "base_uri": "https://localhost:8080/",
          "height": 35
        }
      },
      "source": [
        "from sklearn.metrics import make_scorer\n",
        "\n",
        "def rmsle(predicted_values, actual_values):\n",
        "    # 넘파이로 배열 형태로 바꿔준다.\n",
        "    predicted_values = np.array(predicted_values)\n",
        "    actual_values = np.array(actual_values)\n",
        "    \n",
        "    # 예측값과 실제 값에 1을 더하고 로그를 씌워준다.\n",
        "    log_predict = np.log(predicted_values + 1)\n",
        "    log_actual = np.log(actual_values + 1)\n",
        "    \n",
        "    # 위에서 계산한 예측값에서 실제값을 빼주고 제곱을 해준다.\n",
        "    difference = log_predict - log_actual\n",
        "    # difference = (log_predict - log_actual) ** 2\n",
        "    difference = np.square(difference)\n",
        "    \n",
        "    # 평균을 낸다.\n",
        "    mean_difference = difference.mean()\n",
        "    \n",
        "    # 다시 루트를 씌운다.\n",
        "    score = np.sqrt(mean_difference)\n",
        "    \n",
        "    return score\n",
        "\n",
        "rmsle_scorer = make_scorer(rmsle)\n",
        "rmsle_scorer"
      ],
      "execution_count": 0,
      "outputs": [
        {
          "output_type": "execute_result",
          "data": {
            "text/plain": [
              "make_scorer(rmsle)"
            ]
          },
          "metadata": {
            "tags": []
          },
          "execution_count": 26
        }
      ]
    },
    {
      "cell_type": "markdown",
      "metadata": {
        "id": "A4y6YIKeZcRH",
        "colab_type": "text"
      },
      "source": [
        "# Cross Validation 교차 검증"
      ]
    },
    {
      "cell_type": "code",
      "metadata": {
        "id": "yaZnXlBFZWvs",
        "colab_type": "code",
        "colab": {}
      },
      "source": [
        "from sklearn.model_selection import KFold\n",
        "from sklearn.model_selection import cross_val_score\n",
        "\n",
        "k_fold = KFold(n_splits=10, shuffle=True, random_state=0)"
      ],
      "execution_count": 0,
      "outputs": []
    },
    {
      "cell_type": "markdown",
      "metadata": {
        "id": "HstbEZj2Zhmb",
        "colab_type": "text"
      },
      "source": [
        "# RandomForest"
      ]
    },
    {
      "cell_type": "code",
      "metadata": {
        "id": "UYQa0tdNZW0Y",
        "colab_type": "code",
        "outputId": "ab4b550b-e39c-4f24-b10b-691d92eae269",
        "colab": {
          "base_uri": "https://localhost:8080/",
          "height": 145
        }
      },
      "source": [
        "from sklearn.ensemble import RandomForestRegressor\n",
        "max_depth_list = []\n",
        "\n",
        "model = RandomForestRegressor(n_estimators=100,\n",
        "                              n_jobs=-1,\n",
        "                              random_state=0)\n",
        "model"
      ],
      "execution_count": 0,
      "outputs": [
        {
          "output_type": "execute_result",
          "data": {
            "text/plain": [
              "RandomForestRegressor(bootstrap=True, criterion='mse', max_depth=None,\n",
              "                      max_features='auto', max_leaf_nodes=None,\n",
              "                      min_impurity_decrease=0.0, min_impurity_split=None,\n",
              "                      min_samples_leaf=1, min_samples_split=2,\n",
              "                      min_weight_fraction_leaf=0.0, n_estimators=100, n_jobs=-1,\n",
              "                      oob_score=False, random_state=0, verbose=0,\n",
              "                      warm_start=False)"
            ]
          },
          "metadata": {
            "tags": []
          },
          "execution_count": 28
        }
      ]
    },
    {
      "cell_type": "code",
      "metadata": {
        "id": "AiYTjbWVc4BZ",
        "colab_type": "code",
        "outputId": "167c67c2-092d-4c6b-b3da-c18caaacf75c",
        "colab": {
          "base_uri": "https://localhost:8080/",
          "height": 145
        }
      },
      "source": [
        "print(model)"
      ],
      "execution_count": 0,
      "outputs": [
        {
          "output_type": "stream",
          "text": [
            "RandomForestRegressor(bootstrap=True, criterion='mse', max_depth=None,\n",
            "                      max_features='auto', max_leaf_nodes=None,\n",
            "                      min_impurity_decrease=0.0, min_impurity_split=None,\n",
            "                      min_samples_leaf=1, min_samples_split=2,\n",
            "                      min_weight_fraction_leaf=0.0, n_estimators=100, n_jobs=-1,\n",
            "                      oob_score=False, random_state=0, verbose=0,\n",
            "                      warm_start=False)\n"
          ],
          "name": "stdout"
        }
      ]
    },
    {
      "cell_type": "code",
      "metadata": {
        "id": "L04CA91FZmRk",
        "colab_type": "code",
        "outputId": "afab0693-73b9-4cbc-978e-d4ea6856f133",
        "colab": {
          "base_uri": "https://localhost:8080/",
          "height": 72
        }
      },
      "source": [
        "%time score = cross_val_score(model, X_train, y_train, cv=k_fold, scoring=rmsle_scorer)\n",
        "score = score.mean()\n",
        "# 0에 근접할수록 좋은 데이터\n",
        "print(\"Score= {0:.5f}\".format(score))"
      ],
      "execution_count": 0,
      "outputs": [
        {
          "output_type": "stream",
          "text": [
            "CPU times: user 3.17 s, sys: 777 ms, total: 3.94 s\n",
            "Wall time: 15.6 s\n",
            "Score= 0.68305\n"
          ],
          "name": "stdout"
        }
      ]
    },
    {
      "cell_type": "markdown",
      "metadata": {
        "id": "wJrrRANuZuYv",
        "colab_type": "text"
      },
      "source": [
        "# Train"
      ]
    },
    {
      "cell_type": "code",
      "metadata": {
        "id": "3P07N7ZFZmNZ",
        "colab_type": "code",
        "outputId": "f81acdae-003a-430b-ce0f-eba00c3cce57",
        "colab": {
          "base_uri": "https://localhost:8080/",
          "height": 145
        }
      },
      "source": [
        "# 학습시킴, 피팅 - 피처와 레이블을 넣어주면 알아서 학습을 함\n",
        "model.fit(X_train, y_train)"
      ],
      "execution_count": 0,
      "outputs": [
        {
          "output_type": "execute_result",
          "data": {
            "text/plain": [
              "RandomForestRegressor(bootstrap=True, criterion='mse', max_depth=None,\n",
              "                      max_features='auto', max_leaf_nodes=None,\n",
              "                      min_impurity_decrease=0.0, min_impurity_split=None,\n",
              "                      min_samples_leaf=1, min_samples_split=2,\n",
              "                      min_weight_fraction_leaf=0.0, n_estimators=100, n_jobs=-1,\n",
              "                      oob_score=False, random_state=0, verbose=0,\n",
              "                      warm_start=False)"
            ]
          },
          "metadata": {
            "tags": []
          },
          "execution_count": 31
        }
      ]
    },
    {
      "cell_type": "markdown",
      "metadata": {
        "id": "8jtG35WnakiX",
        "colab_type": "text"
      },
      "source": [
        "# 예측"
      ]
    },
    {
      "cell_type": "code",
      "metadata": {
        "id": "Qn34b83YZmL1",
        "colab_type": "code",
        "outputId": "dc7fe124-72b1-4ddd-85c4-b8ea6f33be92",
        "colab": {
          "base_uri": "https://localhost:8080/",
          "height": 272
        }
      },
      "source": [
        "predictions = model.predict(X_test)\n",
        "\n",
        "print(predictions.shape)\n",
        "predictions[0:100]"
      ],
      "execution_count": 0,
      "outputs": [
        {
          "output_type": "stream",
          "text": [
            "(7660,)\n"
          ],
          "name": "stdout"
        },
        {
          "output_type": "execute_result",
          "data": {
            "text/plain": [
              "array([260.57, 211.05, 249.67, 226.18, 268.57, 275.54, 121.85,  68.86,\n",
              "        58.75,   4.58,   1.91,   3.21, 108.76, 156.23, 217.74, 214.66,\n",
              "       227.31, 182.72, 296.81, 254.19, 341.29, 113.04,  72.46,  73.48,\n",
              "         1.84, 115.42, 324.12, 372.46, 406.49, 393.74, 427.99, 491.25,\n",
              "       641.92, 816.57,  35.27,   4.01,  94.14, 184.75, 305.93, 440.97,\n",
              "       525.6 , 589.29, 756.07, 722.32, 922.67,  21.98,   3.25,  65.81,\n",
              "       136.8 , 113.73, 183.01, 149.13, 129.04, 137.38, 163.51, 168.15,\n",
              "        63.16,  51.31,  70.66,   2.22,   1.27,   4.26, 117.65, 187.98,\n",
              "       182.67, 292.01, 216.32, 174.5 , 205.36, 217.17, 307.1 , 102.12,\n",
              "        82.39,  80.62,   2.9 ,   4.87, 108.24, 173.27, 181.07, 238.79,\n",
              "       213.71, 185.42, 171.07, 229.55, 342.67,  72.92,  83.53,  83.38,\n",
              "         3.24, 115.33, 156.44, 252.2 , 209.44, 183.77, 210.46, 190.9 ,\n",
              "       225.03, 270.27,  73.46,  74.1 ])"
            ]
          },
          "metadata": {
            "tags": []
          },
          "execution_count": 51
        }
      ]
    },
    {
      "cell_type": "code",
      "metadata": {
        "id": "nhaceeIWZmH-",
        "colab_type": "code",
        "outputId": "6d66e0c6-4426-4711-f80b-ccae67d6095e",
        "colab": {
          "base_uri": "https://localhost:8080/",
          "height": 368
        }
      },
      "source": [
        "# 예측한 데이터를 시각화 해본다. \n",
        "fig,(ax1,ax2)= plt.subplots(ncols=2)\n",
        "fig.set_size_inches(12,5)\n",
        "sns.distplot(y_train,ax=ax1,bins=50)\n",
        "ax1.set(title=\"train\")\n",
        "sns.distplot(predictions,ax=ax2,bins=50)\n",
        "ax2.set(title=\"test\")"
      ],
      "execution_count": 0,
      "outputs": [
        {
          "output_type": "execute_result",
          "data": {
            "text/plain": [
              "[Text(0.5, 1.0, 'test')]"
            ]
          },
          "metadata": {
            "tags": []
          },
          "execution_count": 52
        },
        {
          "output_type": "display_data",
          "data": {
            "image/png": "[encoded data removed]",
            "text/plain": [
              "<Figure size 864x360 with 2 Axes>"
            ]
          },
          "metadata": {
            "tags": []
          }
        }
      ]
    },
    {
      "cell_type": "markdown",
      "metadata": {
        "id": "YxpTpfnoaAKX",
        "colab_type": "text"
      },
      "source": [
        "# Submit"
      ]
    },
    {
      "cell_type": "code",
      "metadata": {
        "id": "foZYvmoIe8op",
        "colab_type": "code",
        "colab": {}
      },
      "source": [
        ""
      ],
      "execution_count": 0,
      "outputs": []
    }
  ]
}