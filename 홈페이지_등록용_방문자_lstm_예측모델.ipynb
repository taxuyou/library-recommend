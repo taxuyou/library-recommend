{
  "nbformat": 4,
  "nbformat_minor": 0,
  "metadata": {
    "colab": {
      "name": "홈페이지 등록용 방문자 lstm 예측모델.ipynb",
      "provenance": [],
      "include_colab_link": true
    },
    "kernelspec": {
      "name": "python3",
      "display_name": "Python 3"
    }
  },
  "cells": [
    {
      "cell_type": "markdown",
      "metadata": {
        "id": "view-in-github",
        "colab_type": "text"
      },
      "source": [
        "<a href=\"https://colab.research.google.com/github/taxuyou/library-recommend-and-timeseries-predict/blob/master/%ED%99%88%ED%8E%98%EC%9D%B4%EC%A7%80_%EB%93%B1%EB%A1%9D%EC%9A%A9_%EB%B0%A9%EB%AC%B8%EC%9E%90_lstm_%EC%98%88%EC%B8%A1%EB%AA%A8%EB%8D%B8.ipynb\" target=\"_parent\"><img src=\"https://colab.research.google.com/assets/colab-badge.svg\" alt=\"Open In Colab\"/></a>"
      ]
    },
    {
      "cell_type": "code",
      "metadata": {
        "id": "QuJhSWkn5BzP",
        "colab_type": "code",
        "colab": {
          "base_uri": "https://localhost:8080/",
          "height": 64
        },
        "outputId": "e97b0285-168b-44a9-85ad-b9a8357d04f5"
      },
      "source": [
        "import tensorflow as tf\n",
        "import numpy as np\n",
        "import pandas as pd\n",
        "import datetime\n",
        "import matplotlib.pyplot as plt"
      ],
      "execution_count": 2,
      "outputs": [
        {
          "output_type": "display_data",
          "data": {
            "text/html": [
              "<p style=\"color: red;\">\n",
              "The default version of TensorFlow in Colab will soon switch to TensorFlow 2.x.<br>\n",
              "We recommend you <a href=\"https://www.tensorflow.org/guide/migrate\" target=\"_blank\">upgrade</a> now \n",
              "or ensure your notebook will continue to use TensorFlow 1.x via the <code>%tensorflow_version 1.x</code> magic:\n",
              "<a href=\"https://colab.research.google.com/notebooks/tensorflow_version.ipynb\" target=\"_blank\">more info</a>.</p>\n"
            ],
            "text/plain": [
              "<IPython.core.display.HTML object>"
            ]
          },
          "metadata": {
            "tags": []
          }
        }
      ]
    },
    {
      "cell_type": "code",
      "metadata": {
        "id": "rbk6lpEi5En8",
        "colab_type": "code",
        "colab": {}
      },
      "source": [
        "# 랜덤에 의해 똑같은 결과를 재현하도록 시드 설정\n",
        "# 하이퍼파라미터를 튜닝하기 위한 용도(흔들리면 무엇때문에 좋아졌는지 알기 어려움)\n",
        "tf.set_random_seed(777)"
      ],
      "execution_count": 0,
      "outputs": []
    },
    {
      "cell_type": "code",
      "metadata": {
        "id": "zVfx6OmY5Fhk",
        "colab_type": "code",
        "colab": {}
      },
      "source": [
        "# Standardization\n",
        "def data_standardization(x):\n",
        "    x_np = np.asarray(x)\n",
        "    return (x_np - x_np.mean()) / x_np.std()"
      ],
      "execution_count": 0,
      "outputs": []
    },
    {
      "cell_type": "code",
      "metadata": {
        "id": "KLFIA2bZ5GXm",
        "colab_type": "code",
        "colab": {}
      },
      "source": [
        "# 너무 작거나 너무 큰 값이 학습을 방해하는 것을 방지하고자 정규화한다\n",
        "# x가 양수라는 가정하에 최소값과 최대값을 이용하여 0~1사이의 값으로 변환\n",
        "# Min-Max scaling\n",
        "def min_max_scaling(x):\n",
        "    x_np = np.asarray(x)\n",
        "    return (x_np - x_np.min()) / (x_np.max() - x_np.min() + 1e-7) # 1e-7은 0으로 나누는 오류 예방차원\n",
        " \n",
        "# 정규화된 값을 원래의 값으로 되돌린다\n",
        "# 정규화하기 이전의 org_x값과 되돌리고 싶은 x를 입력하면 역정규화된 값을 리턴한다\n",
        "def reverse_min_max_scaling(org_x, x):\n",
        "    org_x_np = np.asarray(org_x)\n",
        "    x_np = np.asarray(x)\n",
        "    return (x_np * (org_x_np.max() - org_x_np.min() + 1e-7)) + org_x_np.min()"
      ],
      "execution_count": 0,
      "outputs": []
    },
    {
      "cell_type": "code",
      "metadata": {
        "id": "XMpfdIRw5HdY",
        "colab_type": "code",
        "colab": {}
      },
      "source": [
        "# 하이퍼파라미터\n",
        "input_data_column_cnt = 6  # 입력데이터의 컬럼 개수(Variable 개수)\n",
        "output_data_column_cnt = 1 # 결과데이터의 컬럼 개수\n",
        " \n",
        "seq_length = 7           # 1개 시퀀스의 길이(시계열데이터 입력 개수)\n",
        "rnn_cell_hidden_dim = 20   # 각 셀의 (hidden)출력 크기\n",
        "forget_bias = 1          # 망각편향(기본값 1.0)\n",
        "num_stacked_layers = 2     # stacked LSTM layers 개수\n",
        "keep_prob = 1.0            # dropout할 때 keep할 비율\n",
        " \n",
        "epoch_num = 2000           # 에폭 횟수(학습용전체데이터를 몇 회 반복해서 학습할 것인가 입력)\n",
        "learning_rate = 0.01       # 학습률"
      ],
      "execution_count": 0,
      "outputs": []
    },
    {
      "cell_type": "code",
      "metadata": {
        "id": "4mlKoYa65IaK",
        "colab_type": "code",
        "colab": {}
      },
      "source": [
        "# 데이터를 로딩한다.\n",
        "from datetime import datetime\n",
        "raw_dataframe = pd.read_csv('test4.csv', \n",
        "                    )"
      ],
      "execution_count": 0,
      "outputs": []
    },
    {
      "cell_type": "code",
      "metadata": {
        "id": "U9Ipj-wH5PLC",
        "colab_type": "code",
        "colab": {
          "base_uri": "https://localhost:8080/",
          "height": 53
        },
        "outputId": "55d66724-4afa-4b63-ebc6-8466cb1f6d6d"
      },
      "source": [
        "data_info = raw_dataframe.values[0:].astype(np.float) #  문자열을 부동소수점형으로 변환한다\n",
        "print(\"data_info.shape: \", data_info.shape)\n",
        "print(\"data_info[0]: \", data_info[0])"
      ],
      "execution_count": 8,
      "outputs": [
        {
          "output_type": "stream",
          "text": [
            "data_info.shape:  (939, 6)\n",
            "data_info[0]:  [-2.600e+00  0.000e+00  5.000e-01  1.000e+00  0.000e+00  2.221e+03]\n"
          ],
          "name": "stdout"
        }
      ]
    },
    {
      "cell_type": "code",
      "metadata": {
        "id": "swS9durP5QTt",
        "colab_type": "code",
        "colab": {
          "base_uri": "https://localhost:8080/",
          "height": 89
        },
        "outputId": "06902a5b-6d00-4696-d2b1-7d21eeb3604c"
      },
      "source": [
        "# 데이터들을 정규화한다\n",
        "# ['days','holiday','workingday','closed', 'visitors']에서 'workingday'까지 취함\n",
        "# 곧, 마지막 열 Volume를 제외한 모든 열\n",
        "day = data_info[:,0:5]\n",
        "norm_day = min_max_scaling(day) # 가격형태 데이터 정규화 처리\n",
        "print(\"day.shape: \", day.shape)\n",
        "print(\"day[0]: \", day[0])\n",
        "print(\"norm_day[0]: \", norm_day[0])\n",
        "print(\"=\"*100) # 화면상 구분용"
      ],
      "execution_count": 9,
      "outputs": [
        {
          "output_type": "stream",
          "text": [
            "day.shape:  (939, 5)\n",
            "day[0]:  [-2.6  0.   0.5  1.   0. ]\n",
            "norm_day[0]:  [0.089508   0.10491998 0.10788382 0.11084766 0.10491998]\n",
            "====================================================================================================\n"
          ],
          "name": "stdout"
        }
      ]
    },
    {
      "cell_type": "code",
      "metadata": {
        "id": "JgHNve9z5RWQ",
        "colab_type": "code",
        "colab": {
          "base_uri": "https://localhost:8080/",
          "height": 323
        },
        "outputId": "1fcda7aa-bcf7-4aa9-a35a-7f746646ff21"
      },
      "source": [
        "# 방문자 데이터를 정규화한다\n",
        "# ['days','holiday','workingday','visitors']에서 마지막 'visitors'만 취함\n",
        "# [:,-1]이 아닌 [:,-1:]이므로 주의하자! 스칼라가아닌 벡터값 산출해야만 쉽게 병합 가능\n",
        "visitor = data_info[:,-1:]\n",
        "norm_visitor = min_max_scaling(visitor) # 거래량형태 데이터 정규화 처리\n",
        "print(\"visitor.shape: \", visitor.shape)\n",
        "print(\"vitisor[0]: \", visitor[0])\n",
        "print(\"norm_visitor[0]: \", norm_visitor[0])\n",
        "print(\"=\"*100) # 화면상 구분용\n",
        " \n",
        "# 행은 그대로 두고 열을 우측에 붙여 합친다\n",
        "x = np.concatenate((norm_day, norm_visitor), axis=1) # axis=1, 세로로 합친다\n",
        "print(\"x.shape: \", x.shape)\n",
        "print(\"x[0]: \", x[0])    # x의 첫 값\n",
        "print(\"x[-1]: \", x[-1])  # x의 마지막 값\n",
        "print(\"=\"*100) # 화면상 구분용\n",
        " \n",
        "y = x[:, [5]] # 타켓은 방문자다\n",
        "print(\"y[0]: \",y[0])     # y의 첫 값\n",
        "print(\"y[-1]: \",y[-1])   # y의 마지막 값\n",
        " \n",
        " \n",
        "dataX = [] # 입력으로 사용될 Sequence Data\n",
        "dataY = [] # 출력(타켓)으로 사용\n",
        "\n",
        "\n",
        "for i in range(0, len(y) - seq_length):\n",
        "    _x = x[i : i+seq_length]\n",
        "    _y = y[i + seq_length] # 다음 나타날 방문자수(정답)\n",
        "    if i is 0:\n",
        "        print(_x, \"->\", _y) # 첫번째 행만 출력해 봄\n",
        "    dataX.append(_x) # dataX 리스트에 추가\n",
        "    dataY.append(_y) # dataY 리스트에 추가"
      ],
      "execution_count": 10,
      "outputs": [
        {
          "output_type": "stream",
          "text": [
            "visitor.shape:  (939, 1)\n",
            "vitisor[0]:  [2221.]\n",
            "norm_visitor[0]:  [0.30558613]\n",
            "====================================================================================================\n",
            "x.shape:  (939, 6)\n",
            "x[0]:  [0.089508   0.10491998 0.10788382 0.11084766 0.10491998 0.30558613]\n",
            "x[-1]:  [0.25074096 0.21754594 0.11025489 0.14641375 0.10491998 0.53783709]\n",
            "====================================================================================================\n",
            "y[0]:  [0.30558613]\n",
            "y[-1]:  [0.53783709]\n",
            "[[0.089508   0.10491998 0.10788382 0.11084766 0.10491998 0.30558613]\n",
            " [0.09247184 0.10491998 0.11084766 0.11084766 0.10491998 0.33668134]\n",
            " [0.07824541 0.10491998 0.10966212 0.11084766 0.10491998 0.40767749]\n",
            " [0.08713693 0.10491998 0.10847659 0.11084766 0.10491998 0.36502477]\n",
            " [0.08891523 0.10491998 0.11203319 0.11084766 0.10491998 0.36144744]\n",
            " [0.09780676 0.10491998 0.10966212 0.11084766 0.10491998 0.36406164]\n",
            " [0.08298755 0.10491998 0.10847659 0.11084766 0.10491998 0.46037424]] -> [0.59039626]\n"
          ],
          "name": "stdout"
        }
      ]
    },
    {
      "cell_type": "code",
      "metadata": {
        "id": "Cxq8xT0S5SeC",
        "colab_type": "code",
        "colab": {}
      },
      "source": [
        "# 학습용/테스트용 데이터 생성\n",
        "# 전체 70%를 학습용 데이터로 사용\n",
        "train_size = int(len(dataY) * 0.9777)\n",
        "\n",
        "# 나머지(30%)를 테스트용 데이터로 사용\n",
        "test_size = len(dataY) - train_size\n",
        " \n",
        "# 데이터를 잘라 학습용 데이터 생성\n",
        "trainX = np.array(dataX[0:train_size])\n",
        "trainY = np.array(dataY[0:train_size])\n",
        " \n",
        "# 데이터를 잘라 테스트용 데이터 생성\n",
        "testX = np.array(dataX[train_size:len(dataX)])\n",
        "testY = np.array(dataY[train_size:len(dataY)])"
      ],
      "execution_count": 0,
      "outputs": []
    },
    {
      "cell_type": "code",
      "metadata": {
        "id": "e11diU0W5TfN",
        "colab_type": "code",
        "colab": {
          "base_uri": "https://localhost:8080/",
          "height": 89
        },
        "outputId": "8cc884d8-af0b-44aa-93bb-d380a26500dc"
      },
      "source": [
        "# 텐서플로우 플레이스홀더 생성\n",
        "# 입력 X, 출력 Y를 생성한다\n",
        "X = tf.placeholder(tf.float32, [None, seq_length, input_data_column_cnt])\n",
        "print(\"X: \", X)\n",
        "Y = tf.placeholder(tf.float32, [None, 1])\n",
        "print(\"Y: \", Y)\n",
        " \n",
        "# 검증용 측정지표를 산출하기 위한 targets, predictions를 생성한다\n",
        "targets = tf.placeholder(tf.float32, [None, 1])\n",
        "print(\"targets: \", targets)\n",
        " \n",
        "predictions = tf.placeholder(tf.float32, [None, 1])\n",
        "print(\"predictions: \", predictions)"
      ],
      "execution_count": 12,
      "outputs": [
        {
          "output_type": "stream",
          "text": [
            "X:  Tensor(\"Placeholder:0\", shape=(?, 7, 6), dtype=float32)\n",
            "Y:  Tensor(\"Placeholder_1:0\", shape=(?, 1), dtype=float32)\n",
            "targets:  Tensor(\"Placeholder_2:0\", shape=(?, 1), dtype=float32)\n",
            "predictions:  Tensor(\"Placeholder_3:0\", shape=(?, 1), dtype=float32)\n"
          ],
          "name": "stdout"
        }
      ]
    },
    {
      "cell_type": "code",
      "metadata": {
        "id": "blih2EpB5UzB",
        "colab_type": "code",
        "colab": {
          "base_uri": "https://localhost:8080/",
          "height": 289
        },
        "outputId": "eaf7d56e-dc9b-4229-f111-ff8da4ae80e7"
      },
      "source": [
        "# 모델(LSTM 네트워크) 생성\n",
        "def lstm_cell():\n",
        "    # LSTM셀을 생성\n",
        "    # num_units: 각 Cell 출력 크기\n",
        "    # forget_bias:  to the biases of the forget gate \n",
        "    #              (default: 1)  in order to reduce the scale of forgetting in the beginning of the training.\n",
        "    # state_is_tuple: True ==> accepted and returned states are 2-tuples of the c_state and m_state.\n",
        "    # state_is_tuple: False ==> they are concatenated along the column axis.\n",
        "    cell = tf.contrib.rnn.BasicLSTMCell(num_units=rnn_cell_hidden_dim, \n",
        "                                        forget_bias=forget_bias, state_is_tuple=True, activation=tf.nn.softsign)\n",
        "    if keep_prob < 1.0:\n",
        "        cell = tf.contrib.rnn.DropoutWrapper(cell, output_keep_prob=keep_prob)\n",
        "    return cell\n",
        " \n",
        "# num_stacked_layers개의 층으로 쌓인 Stacked RNNs 생성\n",
        "stackedRNNs = [lstm_cell() for _ in range(num_stacked_layers)]\n",
        "multi_cells = tf.contrib.rnn.MultiRNNCell(stackedRNNs, state_is_tuple=True) if num_stacked_layers > 1 else lstm_cell()"
      ],
      "execution_count": 13,
      "outputs": [
        {
          "output_type": "stream",
          "text": [
            "WARNING:tensorflow:\n",
            "The TensorFlow contrib module will not be included in TensorFlow 2.0.\n",
            "For more information, please see:\n",
            "  * https://github.com/tensorflow/community/blob/master/rfcs/20180907-contrib-sunset.md\n",
            "  * https://github.com/tensorflow/addons\n",
            "  * https://github.com/tensorflow/io (for I/O related ops)\n",
            "If you depend on functionality not listed there, please file an issue.\n",
            "\n",
            "WARNING:tensorflow:From <ipython-input-13-668a829a3f10>:9: BasicLSTMCell.__init__ (from tensorflow.python.ops.rnn_cell_impl) is deprecated and will be removed in a future version.\n",
            "Instructions for updating:\n",
            "This class is equivalent as tf.keras.layers.LSTMCell, and will be replaced by that in Tensorflow 2.0.\n",
            "WARNING:tensorflow:From <ipython-input-13-668a829a3f10>:16: MultiRNNCell.__init__ (from tensorflow.python.ops.rnn_cell_impl) is deprecated and will be removed in a future version.\n",
            "Instructions for updating:\n",
            "This class is equivalent as tf.keras.layers.StackedRNNCells, and will be replaced by that in Tensorflow 2.0.\n"
          ],
          "name": "stdout"
        }
      ]
    },
    {
      "cell_type": "code",
      "metadata": {
        "id": "x-4sQ8sJ5WuK",
        "colab_type": "code",
        "colab": {
          "base_uri": "https://localhost:8080/",
          "height": 271
        },
        "outputId": "a93d3c3d-da1a-4fd4-ec03-45e26c1cffbe"
      },
      "source": [
        "# RNN Cell(여기서는 LSTM셀임)들을 연결\n",
        "hypothesis, _states = tf.nn.dynamic_rnn(multi_cells, X, dtype=tf.float32)\n",
        "print(\"hypothesis: \", hypothesis)\n",
        " \n",
        "# [:, -1]를 잘 살펴보자. LSTM RNN의 마지막 (hidden)출력만을 사용했다.\n",
        "# 과거 여러 거래일의 주가를 이용해서 다음날의 주가 1개를 예측하기때문에 MANY-TO-ONE형태이다\n",
        "hypothesis = tf.contrib.layers.fully_connected(hypothesis[:, -1], output_data_column_cnt, activation_fn=tf.identity)\n",
        " \n",
        " \n",
        "# 손실함수로 평균제곱오차를 사용한다\n",
        "loss = tf.reduce_sum(tf.square(hypothesis - Y))\n",
        "# 최적화함수로 AdamOptimizer를 사용한다\n",
        "optimizer = tf.train.AdamOptimizer(learning_rate)\n",
        "# optimizer = tf.train.RMSPropOptimizer(learning_rate) # LSTM과 궁합 별로임\n",
        " \n",
        "train = optimizer.minimize(loss)\n",
        " \n",
        "# RMSE(Root Mean Square Error)\n",
        "# 제곱오차의 평균을 구하고 다시 제곱근을 구하면 평균 오차가 나온다\n",
        "# rmse = tf.sqrt(tf.reduce_mean(tf.square(targets-predictions))) # 아래 코드와 같다\n",
        "rmse = tf.sqrt(tf.reduce_mean(tf.squared_difference(targets, predictions)))\n",
        " \n",
        " \n",
        "train_error_summary = [] # 학습용 데이터의 오류를 중간 중간 기록한다\n",
        "test_error_summary = []  # 테스트용 데이터의 오류를 중간 중간 기록한다\n",
        "test_predict = ''        # 테스트용데이터로 예측한 결과\n",
        " \n",
        "sess = tf.Session()\n",
        "sess.run(tf.global_variables_initializer())"
      ],
      "execution_count": 14,
      "outputs": [
        {
          "output_type": "stream",
          "text": [
            "WARNING:tensorflow:From <ipython-input-14-a2b6404f5de1>:1: dynamic_rnn (from tensorflow.python.ops.rnn) is deprecated and will be removed in a future version.\n",
            "Instructions for updating:\n",
            "Please use `keras.layers.RNN(cell)`, which is equivalent to this API\n",
            "WARNING:tensorflow:From /usr/local/lib/python3.6/dist-packages/tensorflow_core/python/ops/rnn_cell_impl.py:735: Layer.add_variable (from tensorflow.python.keras.engine.base_layer) is deprecated and will be removed in a future version.\n",
            "Instructions for updating:\n",
            "Please use `layer.add_weight` method instead.\n",
            "WARNING:tensorflow:From /usr/local/lib/python3.6/dist-packages/tensorflow_core/python/ops/rnn_cell_impl.py:739: calling Zeros.__init__ (from tensorflow.python.ops.init_ops) with dtype is deprecated and will be removed in a future version.\n",
            "Instructions for updating:\n",
            "Call initializer instance with the dtype argument instead of passing it to the constructor\n",
            "hypothesis:  Tensor(\"rnn/transpose_1:0\", shape=(?, 7, 20), dtype=float32)\n",
            "WARNING:tensorflow:From /usr/local/lib/python3.6/dist-packages/tensorflow_core/contrib/layers/python/layers/layers.py:1866: Layer.apply (from tensorflow.python.keras.engine.base_layer) is deprecated and will be removed in a future version.\n",
            "Instructions for updating:\n",
            "Please use `layer.__call__` method instead.\n"
          ],
          "name": "stdout"
        }
      ]
    },
    {
      "cell_type": "code",
      "metadata": {
        "id": "A8IlAZYH5YX2",
        "colab_type": "code",
        "colab": {
          "base_uri": "https://localhost:8080/",
          "height": 395
        },
        "outputId": "0fe6ac02-f3b0-4791-995f-636a6dd0e67b"
      },
      "source": [
        "# 학습한다\n",
        "# start_time = datetime.datetime.now() # 시작시간을 기록한다\n",
        "print('학습을 시작합니다...')\n",
        "for epoch in range(epoch_num):\n",
        "    _, _loss = sess.run([train, loss], feed_dict={X: trainX, Y: trainY})\n",
        "    if ((epoch+1) % 100 == 0) or (epoch == epoch_num-1): # 100번째마다 또는 마지막 epoch인 경우\n",
        "        # 학습용데이터로 rmse오차를 구한다\n",
        "        train_predict = sess.run(hypothesis, feed_dict={X: trainX})\n",
        "        train_error = sess.run(rmse, feed_dict={targets: trainY, predictions: train_predict})\n",
        "        train_error_summary.append(train_error)\n",
        " \n",
        "        # 테스트용데이터로 rmse오차를 구한다\n",
        "        test_predict = sess.run(hypothesis, feed_dict={X: testX})\n",
        "        test_error = sess.run(rmse, feed_dict={targets: testY, predictions: test_predict})\n",
        "        test_error_summary.append(test_error)\n",
        "        \n",
        "        # 현재 오류를 출력한다\n",
        "        print(\"epoch: {}, train_error(A): {}, test_error(B): {}, B-A: {}\".format(epoch+1, train_error, test_error, test_error-train_error))\n",
        "        \n",
        "# end_time = datetime.datetime.now() # 종료시간을 기록한 다\n",
        "# elapsed_time = end_time - start_time # 경과시간을 구한다\n",
        "# print('elapsed_time:',elapsed_time)\n",
        "# print('elapsed_time per epoch:',elapsed_time/epoch_num)"
      ],
      "execution_count": 15,
      "outputs": [
        {
          "output_type": "stream",
          "text": [
            "학습을 시작합니다...\n",
            "epoch: 100, train_error(A): 0.14452990889549255, test_error(B): 0.135231614112854, B-A: -0.00929829478263855\n",
            "epoch: 200, train_error(A): 0.11056042462587357, test_error(B): 0.10917548835277557, B-A: -0.001384936273097992\n",
            "epoch: 300, train_error(A): 0.10188576579093933, test_error(B): 0.11121141910552979, B-A: 0.009325653314590454\n",
            "epoch: 400, train_error(A): 0.10183723270893097, test_error(B): 0.09002826362848282, B-A: -0.01180896908044815\n",
            "epoch: 500, train_error(A): 0.09040447324514389, test_error(B): 0.11323431879281998, B-A: 0.022829845547676086\n",
            "epoch: 600, train_error(A): 0.08505728840827942, test_error(B): 0.11169756203889847, B-A: 0.02664027363061905\n",
            "epoch: 700, train_error(A): 0.08241607248783112, test_error(B): 0.11699903011322021, B-A: 0.0345829576253891\n",
            "epoch: 800, train_error(A): 0.07588328421115875, test_error(B): 0.11843493580818176, B-A: 0.04255165159702301\n",
            "epoch: 900, train_error(A): 0.07224223762750626, test_error(B): 0.10908130556344986, B-A: 0.036839067935943604\n",
            "epoch: 1000, train_error(A): 0.06822153180837631, test_error(B): 0.10779151320457458, B-A: 0.03956998139619827\n",
            "epoch: 1100, train_error(A): 0.0658513680100441, test_error(B): 0.10859576612710953, B-A: 0.04274439811706543\n",
            "epoch: 1200, train_error(A): 0.06657902151346207, test_error(B): 0.11739230901002884, B-A: 0.05081328749656677\n",
            "epoch: 1300, train_error(A): 0.05883679538965225, test_error(B): 0.1209077462553978, B-A: 0.062070950865745544\n",
            "epoch: 1400, train_error(A): 0.054224733263254166, test_error(B): 0.12448953837156296, B-A: 0.0702648013830185\n",
            "epoch: 1500, train_error(A): 0.05562228709459305, test_error(B): 0.12147071957588196, B-A: 0.06584843248128891\n",
            "epoch: 1600, train_error(A): 0.04868778958916664, test_error(B): 0.12830138206481934, B-A: 0.079613596200943\n",
            "epoch: 1700, train_error(A): 0.05533566325902939, test_error(B): 0.13928036391735077, B-A: 0.08394470065832138\n",
            "epoch: 1800, train_error(A): 0.04348304867744446, test_error(B): 0.1342330276966095, B-A: 0.09074997901916504\n",
            "epoch: 1900, train_error(A): 0.042400557547807693, test_error(B): 0.13445577025413513, B-A: 0.09205521643161774\n",
            "epoch: 2000, train_error(A): 0.036922186613082886, test_error(B): 0.13918690383434296, B-A: 0.10226471722126007\n"
          ],
          "name": "stdout"
        }
      ]
    },
    {
      "cell_type": "code",
      "metadata": {
        "id": "tl5D-sS25dI_",
        "colab_type": "code",
        "colab": {
          "base_uri": "https://localhost:8080/",
          "height": 197
        },
        "outputId": "5c373096-2ef4-4a66-d81b-d289dc5f4aab"
      },
      "source": [
        "# sequence length만큼의 가장 최근 데이터를 슬라이싱한다\n",
        "recent_data = np.array([x[len(x)-seq_length : ]])\n",
        "print(\"recent_data.shape:\", recent_data.shape)\n",
        "print(\"recent_data:\", recent_data)\n",
        " \n",
        "# 내일 방문자를 예측\n",
        "test_predict1 = sess.run(hypothesis, feed_dict={X: recent_data})\n",
        " \n",
        "print(\"test_predict1\", test_predict1[0])\n",
        "test_predict2 = reverse_min_max_scaling(visitor, test_predict1) # 금액데이터 역정규화한다\n",
        "print(\"내일의 예측 \",\"visitors\", test_predict2) # 예측한 visitor를 출력한다"
      ],
      "execution_count": 16,
      "outputs": [
        {
          "output_type": "stream",
          "text": [
            "recent_data.shape: (1, 7, 6)\n",
            "recent_data: [[[0.25251926 0.10491998 0.11025489 0.14641375 0.11084766 0.        ]\n",
            "  [0.25251926 0.10491998 0.11025489 0.14641375 0.10491998 0.5090809 ]\n",
            "  [0.25429757 0.10491998 0.10966212 0.14641375 0.10491998 0.43368189]\n",
            "  [0.25311203 0.33313574 0.10788382 0.14641375 0.10491998 0.33805724]\n",
            "  [0.25133373 0.17308832 0.10788382 0.14641375 0.10491998 0.39529444]\n",
            "  [0.24836989 0.3301719  0.10906935 0.14641375 0.10491998 0.50178866]\n",
            "  [0.25074096 0.21754594 0.11025489 0.14641375 0.10491998 0.53783709]]]\n",
            "test_predict1 [0.3957516]\n",
            "내일의  visitors [[2876.3225]]\n"
          ],
          "name": "stdout"
        }
      ]
    },
    {
      "cell_type": "code",
      "metadata": {
        "id": "JjdYkS0B5iCm",
        "colab_type": "code",
        "colab": {}
      },
      "source": [
        ""
      ],
      "execution_count": 0,
      "outputs": []
    }
  ]
}